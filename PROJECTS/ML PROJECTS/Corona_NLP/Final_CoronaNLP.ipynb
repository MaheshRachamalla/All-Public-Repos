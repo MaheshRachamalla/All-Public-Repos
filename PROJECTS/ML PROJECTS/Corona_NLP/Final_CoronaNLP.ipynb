{
 "cells": [
  {
   "cell_type": "code",
   "execution_count": null,
   "metadata": {
    "id": "fI9ODMJg3g06"
   },
   "outputs": [],
   "source": [
    "import pandas as pd\n",
    "import numpy as np\n",
    "import matplotlib.pyplot as plt"
   ]
  },
  {
   "cell_type": "code",
   "execution_count": null,
   "metadata": {
    "colab": {
     "base_uri": "https://localhost:8080/"
    },
    "executionInfo": {
     "elapsed": 23498,
     "status": "ok",
     "timestamp": 1653067292270,
     "user": {
      "displayName": "Mahesh Yadav",
      "userId": "02224698005666551113"
     },
     "user_tz": -330
    },
    "id": "Fjfl5grZ4JdB",
    "outputId": "1850dee6-f290-4907-b9bb-b6eec424b26f"
   },
   "outputs": [
    {
     "name": "stdout",
     "output_type": "stream",
     "text": [
      "Mounted at /content/drive\n"
     ]
    }
   ],
   "source": [
    "from google.colab import drive\n",
    "drive.mount('/content/drive')"
   ]
  },
  {
   "cell_type": "code",
   "execution_count": null,
   "metadata": {
    "id": "Xt1WaAM64Jf_"
   },
   "outputs": [],
   "source": [
    "df = pd.read_csv('/content/drive/My Drive/ACADEMICS/Verzeo ML/PROJECTS/MAJOR PROJECT/Corona_NLP (2).csv', encoding = 'latin1')"
   ]
  },
  {
   "cell_type": "code",
   "execution_count": null,
   "metadata": {
    "colab": {
     "base_uri": "https://localhost:8080/",
     "height": 300
    },
    "executionInfo": {
     "elapsed": 5,
     "status": "ok",
     "timestamp": 1653067303329,
     "user": {
      "displayName": "Mahesh Yadav",
      "userId": "02224698005666551113"
     },
     "user_tz": -330
    },
    "id": "osv4AskR4JiQ",
    "outputId": "bfcaed52-9c4e-4a12-f22f-f35a645b6c8d"
   },
   "outputs": [
    {
     "data": {
      "text/html": [
       "\n",
       "  <div id=\"df-49f4eb93-2629-4292-95ea-faf617c8e358\">\n",
       "    <div class=\"colab-df-container\">\n",
       "      <div>\n",
       "<style scoped>\n",
       "    .dataframe tbody tr th:only-of-type {\n",
       "        vertical-align: middle;\n",
       "    }\n",
       "\n",
       "    .dataframe tbody tr th {\n",
       "        vertical-align: top;\n",
       "    }\n",
       "\n",
       "    .dataframe thead th {\n",
       "        text-align: right;\n",
       "    }\n",
       "</style>\n",
       "<table border=\"1\" class=\"dataframe\">\n",
       "  <thead>\n",
       "    <tr style=\"text-align: right;\">\n",
       "      <th></th>\n",
       "      <th>UserName</th>\n",
       "      <th>ScreenName</th>\n",
       "    </tr>\n",
       "  </thead>\n",
       "  <tbody>\n",
       "    <tr>\n",
       "      <th>count</th>\n",
       "      <td>41157.000000</td>\n",
       "      <td>41157.000000</td>\n",
       "    </tr>\n",
       "    <tr>\n",
       "      <th>mean</th>\n",
       "      <td>24377.000000</td>\n",
       "      <td>69329.000000</td>\n",
       "    </tr>\n",
       "    <tr>\n",
       "      <th>std</th>\n",
       "      <td>11881.146851</td>\n",
       "      <td>11881.146851</td>\n",
       "    </tr>\n",
       "    <tr>\n",
       "      <th>min</th>\n",
       "      <td>3799.000000</td>\n",
       "      <td>48751.000000</td>\n",
       "    </tr>\n",
       "    <tr>\n",
       "      <th>25%</th>\n",
       "      <td>14088.000000</td>\n",
       "      <td>59040.000000</td>\n",
       "    </tr>\n",
       "    <tr>\n",
       "      <th>50%</th>\n",
       "      <td>24377.000000</td>\n",
       "      <td>69329.000000</td>\n",
       "    </tr>\n",
       "    <tr>\n",
       "      <th>75%</th>\n",
       "      <td>34666.000000</td>\n",
       "      <td>79618.000000</td>\n",
       "    </tr>\n",
       "    <tr>\n",
       "      <th>max</th>\n",
       "      <td>44955.000000</td>\n",
       "      <td>89907.000000</td>\n",
       "    </tr>\n",
       "  </tbody>\n",
       "</table>\n",
       "</div>\n",
       "      <button class=\"colab-df-convert\" onclick=\"convertToInteractive('df-49f4eb93-2629-4292-95ea-faf617c8e358')\"\n",
       "              title=\"Convert this dataframe to an interactive table.\"\n",
       "              style=\"display:none;\">\n",
       "        \n",
       "  <svg xmlns=\"http://www.w3.org/2000/svg\" height=\"24px\"viewBox=\"0 0 24 24\"\n",
       "       width=\"24px\">\n",
       "    <path d=\"M0 0h24v24H0V0z\" fill=\"none\"/>\n",
       "    <path d=\"M18.56 5.44l.94 2.06.94-2.06 2.06-.94-2.06-.94-.94-2.06-.94 2.06-2.06.94zm-11 1L8.5 8.5l.94-2.06 2.06-.94-2.06-.94L8.5 2.5l-.94 2.06-2.06.94zm10 10l.94 2.06.94-2.06 2.06-.94-2.06-.94-.94-2.06-.94 2.06-2.06.94z\"/><path d=\"M17.41 7.96l-1.37-1.37c-.4-.4-.92-.59-1.43-.59-.52 0-1.04.2-1.43.59L10.3 9.45l-7.72 7.72c-.78.78-.78 2.05 0 2.83L4 21.41c.39.39.9.59 1.41.59.51 0 1.02-.2 1.41-.59l7.78-7.78 2.81-2.81c.8-.78.8-2.07 0-2.86zM5.41 20L4 18.59l7.72-7.72 1.47 1.35L5.41 20z\"/>\n",
       "  </svg>\n",
       "      </button>\n",
       "      \n",
       "  <style>\n",
       "    .colab-df-container {\n",
       "      display:flex;\n",
       "      flex-wrap:wrap;\n",
       "      gap: 12px;\n",
       "    }\n",
       "\n",
       "    .colab-df-convert {\n",
       "      background-color: #E8F0FE;\n",
       "      border: none;\n",
       "      border-radius: 50%;\n",
       "      cursor: pointer;\n",
       "      display: none;\n",
       "      fill: #1967D2;\n",
       "      height: 32px;\n",
       "      padding: 0 0 0 0;\n",
       "      width: 32px;\n",
       "    }\n",
       "\n",
       "    .colab-df-convert:hover {\n",
       "      background-color: #E2EBFA;\n",
       "      box-shadow: 0px 1px 2px rgba(60, 64, 67, 0.3), 0px 1px 3px 1px rgba(60, 64, 67, 0.15);\n",
       "      fill: #174EA6;\n",
       "    }\n",
       "\n",
       "    [theme=dark] .colab-df-convert {\n",
       "      background-color: #3B4455;\n",
       "      fill: #D2E3FC;\n",
       "    }\n",
       "\n",
       "    [theme=dark] .colab-df-convert:hover {\n",
       "      background-color: #434B5C;\n",
       "      box-shadow: 0px 1px 3px 1px rgba(0, 0, 0, 0.15);\n",
       "      filter: drop-shadow(0px 1px 2px rgba(0, 0, 0, 0.3));\n",
       "      fill: #FFFFFF;\n",
       "    }\n",
       "  </style>\n",
       "\n",
       "      <script>\n",
       "        const buttonEl =\n",
       "          document.querySelector('#df-49f4eb93-2629-4292-95ea-faf617c8e358 button.colab-df-convert');\n",
       "        buttonEl.style.display =\n",
       "          google.colab.kernel.accessAllowed ? 'block' : 'none';\n",
       "\n",
       "        async function convertToInteractive(key) {\n",
       "          const element = document.querySelector('#df-49f4eb93-2629-4292-95ea-faf617c8e358');\n",
       "          const dataTable =\n",
       "            await google.colab.kernel.invokeFunction('convertToInteractive',\n",
       "                                                     [key], {});\n",
       "          if (!dataTable) return;\n",
       "\n",
       "          const docLinkHtml = 'Like what you see? Visit the ' +\n",
       "            '<a target=\"_blank\" href=https://colab.research.google.com/notebooks/data_table.ipynb>data table notebook</a>'\n",
       "            + ' to learn more about interactive tables.';\n",
       "          element.innerHTML = '';\n",
       "          dataTable['output_type'] = 'display_data';\n",
       "          await google.colab.output.renderOutput(dataTable, element);\n",
       "          const docLink = document.createElement('div');\n",
       "          docLink.innerHTML = docLinkHtml;\n",
       "          element.appendChild(docLink);\n",
       "        }\n",
       "      </script>\n",
       "    </div>\n",
       "  </div>\n",
       "  "
      ],
      "text/plain": [
       "           UserName    ScreenName\n",
       "count  41157.000000  41157.000000\n",
       "mean   24377.000000  69329.000000\n",
       "std    11881.146851  11881.146851\n",
       "min     3799.000000  48751.000000\n",
       "25%    14088.000000  59040.000000\n",
       "50%    24377.000000  69329.000000\n",
       "75%    34666.000000  79618.000000\n",
       "max    44955.000000  89907.000000"
      ]
     },
     "execution_count": 4,
     "metadata": {},
     "output_type": "execute_result"
    }
   ],
   "source": [
    "# Description about the dataframe df\n",
    "df.describe()"
   ]
  },
  {
   "cell_type": "code",
   "execution_count": null,
   "metadata": {
    "colab": {
     "base_uri": "https://localhost:8080/"
    },
    "executionInfo": {
     "elapsed": 422,
     "status": "ok",
     "timestamp": 1653067305627,
     "user": {
      "displayName": "Mahesh Yadav",
      "userId": "02224698005666551113"
     },
     "user_tz": -330
    },
    "id": "U1tLzz1h4Jku",
    "outputId": "7629166d-2a99-4d5b-8406-e68628d47775"
   },
   "outputs": [
    {
     "name": "stdout",
     "output_type": "stream",
     "text": [
      "<class 'pandas.core.frame.DataFrame'>\n",
      "RangeIndex: 41157 entries, 0 to 41156\n",
      "Data columns (total 6 columns):\n",
      " #   Column         Non-Null Count  Dtype \n",
      "---  ------         --------------  ----- \n",
      " 0   UserName       41157 non-null  int64 \n",
      " 1   ScreenName     41157 non-null  int64 \n",
      " 2   Location       32567 non-null  object\n",
      " 3   TweetAt        41157 non-null  object\n",
      " 4   OriginalTweet  41157 non-null  object\n",
      " 5   Sentiment      41157 non-null  object\n",
      "dtypes: int64(2), object(4)\n",
      "memory usage: 1.9+ MB\n"
     ]
    }
   ],
   "source": [
    "df.info()"
   ]
  },
  {
   "cell_type": "code",
   "execution_count": null,
   "metadata": {
    "colab": {
     "base_uri": "https://localhost:8080/"
    },
    "executionInfo": {
     "elapsed": 8,
     "status": "ok",
     "timestamp": 1653067307726,
     "user": {
      "displayName": "Mahesh Yadav",
      "userId": "02224698005666551113"
     },
     "user_tz": -330
    },
    "id": "f04oNhTT4JnX",
    "outputId": "0cbbbbc2-c119-44a6-d628-d539b04b8e6b"
   },
   "outputs": [
    {
     "data": {
      "text/plain": [
       "(41157, 6)"
      ]
     },
     "execution_count": 6,
     "metadata": {},
     "output_type": "execute_result"
    }
   ],
   "source": [
    "# no.of rows and no.of columns  of the dataframe\n",
    "df.shape"
   ]
  },
  {
   "cell_type": "code",
   "execution_count": null,
   "metadata": {
    "colab": {
     "base_uri": "https://localhost:8080/"
    },
    "executionInfo": {
     "elapsed": 9,
     "status": "ok",
     "timestamp": 1653067309626,
     "user": {
      "displayName": "Mahesh Yadav",
      "userId": "02224698005666551113"
     },
     "user_tz": -330
    },
    "id": "LL60nRw44JqD",
    "outputId": "d1472fe6-c19f-43ab-e76c-29615a98a250"
   },
   "outputs": [
    {
     "data": {
      "text/plain": [
       "UserName            0\n",
       "ScreenName          0\n",
       "Location         8590\n",
       "TweetAt             0\n",
       "OriginalTweet       0\n",
       "Sentiment           0\n",
       "dtype: int64"
      ]
     },
     "execution_count": 7,
     "metadata": {},
     "output_type": "execute_result"
    }
   ],
   "source": [
    "# Checking of null values\n",
    "df.isnull().sum()"
   ]
  },
  {
   "cell_type": "code",
   "execution_count": null,
   "metadata": {
    "colab": {
     "base_uri": "https://localhost:8080/"
    },
    "executionInfo": {
     "elapsed": 3,
     "status": "ok",
     "timestamp": 1653067311756,
     "user": {
      "displayName": "Mahesh Yadav",
      "userId": "02224698005666551113"
     },
     "user_tz": -330
    },
    "id": "_6FAeeel4Js4",
    "outputId": "1e367997-edb3-485d-9071-9fc9fa4a2091"
   },
   "outputs": [
    {
     "data": {
      "text/plain": [
       "Positive              11422\n",
       "Negative               9917\n",
       "Neutral                7713\n",
       "Extremely Positive     6624\n",
       "Extremely Negative     5481\n",
       "Name: Sentiment, dtype: int64"
      ]
     },
     "execution_count": 8,
     "metadata": {},
     "output_type": "execute_result"
    }
   ],
   "source": [
    "df['Sentiment'].value_counts()"
   ]
  },
  {
   "cell_type": "code",
   "execution_count": null,
   "metadata": {
    "id": "62UpGuw74JvI"
   },
   "outputs": [],
   "source": [
    "df['Sentiment']=df['Sentiment'].replace({'Extremely Positive':'Positive','Extremely Negative':'Negative'})"
   ]
  },
  {
   "cell_type": "code",
   "execution_count": null,
   "metadata": {
    "colab": {
     "base_uri": "https://localhost:8080/"
    },
    "executionInfo": {
     "elapsed": 8,
     "status": "ok",
     "timestamp": 1653067317294,
     "user": {
      "displayName": "Mahesh Yadav",
      "userId": "02224698005666551113"
     },
     "user_tz": -330
    },
    "id": "08c6lDkS4Jxu",
    "outputId": "aadc5d4f-dbd4-406a-bd96-4f911769b698"
   },
   "outputs": [
    {
     "data": {
      "text/plain": [
       "Positive    18046\n",
       "Negative    15398\n",
       "Neutral      7713\n",
       "Name: Sentiment, dtype: int64"
      ]
     },
     "execution_count": 10,
     "metadata": {},
     "output_type": "execute_result"
    }
   ],
   "source": [
    "df['Sentiment'].value_counts()"
   ]
  },
  {
   "cell_type": "code",
   "execution_count": null,
   "metadata": {
    "colab": {
     "base_uri": "https://localhost:8080/"
    },
    "executionInfo": {
     "elapsed": 3,
     "status": "ok",
     "timestamp": 1653067319410,
     "user": {
      "displayName": "Mahesh Yadav",
      "userId": "02224698005666551113"
     },
     "user_tz": -330
    },
    "id": "OZqp64iP4J0x",
    "outputId": "c20510b0-7c39-4f53-9d39-228011b5f06f"
   },
   "outputs": [
    {
     "data": {
      "text/plain": [
       "36902    DOING GOOD ON GOOD FRIDAY The National Guard i...\n",
       "7929     With the #Coronavirus &amp; the #CDC guideline...\n",
       "16452    4th patient of corona virus in Sindh has recov...\n",
       "Name: OriginalTweet, dtype: object"
      ]
     },
     "execution_count": 11,
     "metadata": {},
     "output_type": "execute_result"
    }
   ],
   "source": [
    "df['OriginalTweet'].sample(3)"
   ]
  },
  {
   "cell_type": "code",
   "execution_count": null,
   "metadata": {
    "colab": {
     "base_uri": "https://localhost:8080/",
     "height": 53
    },
    "executionInfo": {
     "elapsed": 7,
     "status": "ok",
     "timestamp": 1653067321907,
     "user": {
      "displayName": "Mahesh Yadav",
      "userId": "02224698005666551113"
     },
     "user_tz": -330
    },
    "id": "cT8TBHyV4J3P",
    "outputId": "1c4f2abc-319d-4fe4-cb5a-210118a5b16a"
   },
   "outputs": [
    {
     "data": {
      "application/vnd.google.colaboratory.intrinsic+json": {
       "type": "string"
      },
      "text/plain": [
       "'As news of the regionÂ\\x92s first confirmed COVID-19 case came out of Sullivan County last week, people flocked to area stores to purchase cleaning supplies, hand sanitizer, food, toilet paper and other goods, @Tim_Dodson reports https://t.co/cfXch7a2lU'"
      ]
     },
     "execution_count": 12,
     "metadata": {},
     "output_type": "execute_result"
    }
   ],
   "source": [
    "df['OriginalTweet'][5]"
   ]
  },
  {
   "cell_type": "code",
   "execution_count": null,
   "metadata": {
    "colab": {
     "base_uri": "https://localhost:8080/"
    },
    "executionInfo": {
     "elapsed": 1528,
     "status": "ok",
     "timestamp": 1653067325507,
     "user": {
      "displayName": "Mahesh Yadav",
      "userId": "02224698005666551113"
     },
     "user_tz": -330
    },
    "id": "MIp-L3fZ4J5u",
    "outputId": "c56d09d9-dcea-4deb-be31-cb02455e5231"
   },
   "outputs": [
    {
     "name": "stdout",
     "output_type": "stream",
     "text": [
      "[nltk_data] Downloading package stopwords to /root/nltk_data...\n",
      "[nltk_data]   Unzipping corpora/stopwords.zip.\n"
     ]
    }
   ],
   "source": [
    "import nltk\n",
    "from nltk import word_tokenize\n",
    "nltk.download('stopwords')\n",
    "from nltk.corpus import stopwords\n",
    "from nltk.stem import WordNetLemmatizer\n",
    "import re "
   ]
  },
  {
   "cell_type": "code",
   "execution_count": null,
   "metadata": {
    "id": "51a1VpFo4J8m"
   },
   "outputs": [],
   "source": [
    "from sklearn.feature_extraction.text import CountVectorizer, TfidfVectorizer"
   ]
  },
  {
   "cell_type": "code",
   "execution_count": null,
   "metadata": {
    "colab": {
     "base_uri": "https://localhost:8080/"
    },
    "executionInfo": {
     "elapsed": 398,
     "status": "ok",
     "timestamp": 1653067331783,
     "user": {
      "displayName": "Mahesh Yadav",
      "userId": "02224698005666551113"
     },
     "user_tz": -330
    },
    "id": "4hzHc9Oc8yJS",
    "outputId": "3f4de791-79ec-49d2-e479-4d210d4b026c"
   },
   "outputs": [
    {
     "name": "stdout",
     "output_type": "stream",
     "text": [
      "['i', 'me', 'my', 'myself', 'we', 'our', 'ours', 'ourselves', 'you', \"you're\", \"you've\", \"you'll\", \"you'd\", 'your', 'yours', 'yourself', 'yourselves', 'he', 'him', 'his', 'himself', 'she', \"she's\", 'her', 'hers', 'herself', 'it', \"it's\", 'its', 'itself', 'they', 'them', 'their', 'theirs', 'themselves', 'what', 'which', 'who', 'whom', 'this', 'that', \"that'll\", 'these', 'those', 'am', 'is', 'are', 'was', 'were', 'be', 'been', 'being', 'have', 'has', 'had', 'having', 'do', 'does', 'did', 'doing', 'a', 'an', 'the', 'and', 'but', 'if', 'or', 'because', 'as', 'until', 'while', 'of', 'at', 'by', 'for', 'with', 'about', 'against', 'between', 'into', 'through', 'during', 'before', 'after', 'above', 'below', 'to', 'from', 'up', 'down', 'in', 'out', 'on', 'off', 'over', 'under', 'again', 'further', 'then', 'once', 'here', 'there', 'when', 'where', 'why', 'how', 'all', 'any', 'both', 'each', 'few', 'more', 'most', 'other', 'some', 'such', 'no', 'nor', 'not', 'only', 'own', 'same', 'so', 'than', 'too', 'very', 's', 't', 'can', 'will', 'just', 'don', \"don't\", 'should', \"should've\", 'now', 'd', 'll', 'm', 'o', 're', 've', 'y', 'ain', 'aren', \"aren't\", 'couldn', \"couldn't\", 'didn', \"didn't\", 'doesn', \"doesn't\", 'hadn', \"hadn't\", 'hasn', \"hasn't\", 'haven', \"haven't\", 'isn', \"isn't\", 'ma', 'mightn', \"mightn't\", 'mustn', \"mustn't\", 'needn', \"needn't\", 'shan', \"shan't\", 'shouldn', \"shouldn't\", 'wasn', \"wasn't\", 'weren', \"weren't\", 'won', \"won't\", 'wouldn', \"wouldn't\"]\n"
     ]
    }
   ],
   "source": [
    "lm = WordNetLemmatizer()\n",
    "sw = stopwords.words('english')\n",
    "print(sw)"
   ]
  },
  {
   "cell_type": "code",
   "execution_count": null,
   "metadata": {
    "colab": {
     "base_uri": "https://localhost:8080/"
    },
    "executionInfo": {
     "elapsed": 382,
     "status": "ok",
     "timestamp": 1653067334807,
     "user": {
      "displayName": "Mahesh Yadav",
      "userId": "02224698005666551113"
     },
     "user_tz": -330
    },
    "id": "NPd0Ou-r_nbW",
    "outputId": "d7524b41-cad0-4ca2-8495-1b3d623e87ee"
   },
   "outputs": [
    {
     "name": "stdout",
     "output_type": "stream",
     "text": [
      "[nltk_data] Downloading package punkt to /root/nltk_data...\n",
      "[nltk_data]   Unzipping tokenizers/punkt.zip.\n",
      "[nltk_data] Downloading package wordnet to /root/nltk_data...\n",
      "[nltk_data]   Unzipping corpora/wordnet.zip.\n"
     ]
    },
    {
     "data": {
      "text/plain": [
       "True"
      ]
     },
     "execution_count": 16,
     "metadata": {},
     "output_type": "execute_result"
    }
   ],
   "source": [
    "nltk.download('punkt')\n",
    "nltk.download('wordnet')"
   ]
  },
  {
   "cell_type": "code",
   "execution_count": null,
   "metadata": {
    "id": "Mx6is7N38yLp"
   },
   "outputs": [],
   "source": [
    "corpus = []\n",
    "for i in df['OriginalTweet']:\n",
    "  txt = re.sub('[^A-Za-z0-9]', ' ', i)\n",
    "  txt = txt.lower()\n",
    "  txt = word_tokenize(txt)\n",
    "  txt = [i for i in txt if i not in sw]\n",
    "  txt = [lm.lemmatize(i) for i in txt]\n",
    "  txt = \" \".join(txt)\n",
    "  corpus.append(txt)"
   ]
  },
  {
   "cell_type": "code",
   "execution_count": null,
   "metadata": {
    "colab": {
     "base_uri": "https://localhost:8080/"
    },
    "executionInfo": {
     "elapsed": 370,
     "status": "ok",
     "timestamp": 1653067372870,
     "user": {
      "displayName": "Mahesh Yadav",
      "userId": "02224698005666551113"
     },
     "user_tz": -330
    },
    "id": "1w1oHBjB8yOM",
    "outputId": "ab870218-10bf-4202-8f32-67c3c066c6b9"
   },
   "outputs": [
    {
     "name": "stdout",
     "output_type": "stream",
     "text": [
      "['menyrbie phil gahan chrisitv http co ifz9fan2pa http co xx6ghgfzcc http co i2nlzdxno8', 'advice talk neighbour family exchange phone number create contact list phone number neighbour school employer chemist gp set online shopping account po adequate supply regular med order', 'coronavirus australia woolworth give elderly disabled dedicated shopping hour amid covid 19 outbreak http co binca9vp8p', 'food stock one empty please panic enough food everyone take need stay calm stay safe covid19france covid 19 covid19 coronavirus confinement confinementotal confinementgeneral http co zrlg0z520j', 'ready go supermarket covid19 outbreak paranoid food stock litteraly empty coronavirus serious thing please panic cause shortage coronavirusfrance restezchezvous stayathome confinement http co usmualq72n', 'news region first confirmed covid 19 case came sullivan county last week people flocked area store purchase cleaning supply hand sanitizer food toilet paper good tim dodson report http co cfxch7a2lu', 'cashier grocery store sharing insight covid 19 prove credibility commented civics class know talking http co iefdnehgdo', 'supermarket today buy toilet paper rebel toiletpapercrisis covid 19 http co evxkqlidaz', 'due covid 19 retail store classroom atlanta open walk business class next two week beginning monday march 16 continue process online phone order normal thank understanding http co kw91zj5o5i', 'corona prevention stop buy thing cash use online payment method corona spread note also prefer online shopping home time fight covid 19 govindia indiafightscorona']\n"
     ]
    }
   ],
   "source": [
    "print(corpus[:10])"
   ]
  },
  {
   "cell_type": "code",
   "execution_count": null,
   "metadata": {
    "id": "6iC-hCgfCjfw"
   },
   "outputs": [],
   "source": [
    "#cv = CountVectorizer()\n",
    "#cv_res = cv.fit_transform(corpus).toarray()"
   ]
  },
  {
   "cell_type": "code",
   "execution_count": null,
   "metadata": {
    "id": "9Sjggflq8yQo"
   },
   "outputs": [],
   "source": [
    "tf = TfidfVectorizer(smooth_idf = False,max_features = 5000)\n",
    "tf_res = tf.fit_transform(corpus).toarray()"
   ]
  },
  {
   "cell_type": "code",
   "execution_count": null,
   "metadata": {
    "colab": {
     "base_uri": "https://localhost:8080/"
    },
    "executionInfo": {
     "elapsed": 604,
     "status": "ok",
     "timestamp": 1653067382849,
     "user": {
      "displayName": "Mahesh Yadav",
      "userId": "02224698005666551113"
     },
     "user_tz": -330
    },
    "id": "z9dYD0iD8yS4",
    "outputId": "33f01e2d-3c5b-4ef8-fea0-f311ee5e306b"
   },
   "outputs": [
    {
     "name": "stdout",
     "output_type": "stream",
     "text": [
      "[[0. 0. 0. ... 0. 0. 0.]\n",
      " [0. 0. 0. ... 0. 0. 0.]\n",
      " [0. 0. 0. ... 0. 0. 0.]\n",
      " [0. 0. 0. ... 0. 0. 0.]\n",
      " [0. 0. 0. ... 0. 0. 0.]]\n"
     ]
    }
   ],
   "source": [
    "print(tf_res[:5])"
   ]
  },
  {
   "cell_type": "code",
   "execution_count": null,
   "metadata": {
    "colab": {
     "base_uri": "https://localhost:8080/"
    },
    "executionInfo": {
     "elapsed": 2,
     "status": "ok",
     "timestamp": 1653067385500,
     "user": {
      "displayName": "Mahesh Yadav",
      "userId": "02224698005666551113"
     },
     "user_tz": -330
    },
    "id": "ovOh9F7S8yXx",
    "outputId": "3519ecad-23b3-4490-a064-f673cd0773c0"
   },
   "outputs": [
    {
     "name": "stdout",
     "output_type": "stream",
     "text": [
      "<class 'numpy.ndarray'>\n"
     ]
    }
   ],
   "source": [
    "print(type(tf_res))"
   ]
  },
  {
   "cell_type": "code",
   "execution_count": null,
   "metadata": {
    "colab": {
     "base_uri": "https://localhost:8080/"
    },
    "executionInfo": {
     "elapsed": 391,
     "status": "ok",
     "timestamp": 1653067389806,
     "user": {
      "displayName": "Mahesh Yadav",
      "userId": "02224698005666551113"
     },
     "user_tz": -330
    },
    "id": "haD-WnHx8yaw",
    "outputId": "c713196e-6ae8-45af-b69a-ffbdbdb87ee9"
   },
   "outputs": [
    {
     "name": "stdout",
     "output_type": "stream",
     "text": [
      "41157\n",
      "(41157,)\n"
     ]
    }
   ],
   "source": [
    "x = tf_res\n",
    "y = df['Sentiment']\n",
    "print(len(x))\n",
    "print(y.shape)"
   ]
  },
  {
   "cell_type": "markdown",
   "metadata": {
    "id": "R40-EEOFIETm"
   },
   "source": [
    "#       ## Splitting the data into Training and Testing data"
   ]
  },
  {
   "cell_type": "code",
   "execution_count": null,
   "metadata": {
    "id": "tQn-s3wwGWol"
   },
   "outputs": [],
   "source": [
    "from sklearn.model_selection import train_test_split\n",
    "from sklearn.metrics import confusion_matrix , classification_report , accuracy_score"
   ]
  },
  {
   "cell_type": "code",
   "execution_count": null,
   "metadata": {
    "colab": {
     "base_uri": "https://localhost:8080/"
    },
    "executionInfo": {
     "elapsed": 1025,
     "status": "ok",
     "timestamp": 1653067397153,
     "user": {
      "displayName": "Mahesh Yadav",
      "userId": "02224698005666551113"
     },
     "user_tz": -330
    },
    "id": "ljcR2WL88ydI",
    "outputId": "b8014d3d-0012-4e34-d47c-a856cdfd61bc"
   },
   "outputs": [
    {
     "name": "stdout",
     "output_type": "stream",
     "text": [
      "(30867, 5000)\n",
      "(10290, 5000)\n",
      "(30867,)\n",
      "(10290,)\n"
     ]
    }
   ],
   "source": [
    "x_train,x_test,y_train,y_test = train_test_split(x, y, test_size = 0.25)\n",
    "print(x_train.shape)\n",
    "print(x_test.shape)\n",
    "print(y_train.shape)\n",
    "print(y_test.shape)"
   ]
  },
  {
   "cell_type": "markdown",
   "metadata": {
    "id": "o8M877PuIOD-"
   },
   "source": [
    "# ## MULTINOMIAL NAIVE_BAYES CLASSIFICATION"
   ]
  },
  {
   "cell_type": "code",
   "execution_count": null,
   "metadata": {
    "id": "CAzRjjpN8yfk"
   },
   "outputs": [],
   "source": [
    "from sklearn.naive_bayes import MultinomialNB"
   ]
  },
  {
   "cell_type": "code",
   "execution_count": null,
   "metadata": {
    "colab": {
     "base_uri": "https://localhost:8080/"
    },
    "executionInfo": {
     "elapsed": 1467,
     "status": "ok",
     "timestamp": 1653067411165,
     "user": {
      "displayName": "Mahesh Yadav",
      "userId": "02224698005666551113"
     },
     "user_tz": -330
    },
    "id": "BlXa_yfR8yjA",
    "outputId": "e66953d0-9d0d-49bb-e7b0-f6603a14c777"
   },
   "outputs": [
    {
     "data": {
      "text/plain": [
       "MultinomialNB()"
      ]
     },
     "execution_count": 26,
     "metadata": {},
     "output_type": "execute_result"
    }
   ],
   "source": [
    "nbc = MultinomialNB()\n",
    "nbc.fit(x_train,y_train)"
   ]
  },
  {
   "cell_type": "code",
   "execution_count": null,
   "metadata": {
    "colab": {
     "base_uri": "https://localhost:8080/"
    },
    "executionInfo": {
     "elapsed": 1004,
     "status": "ok",
     "timestamp": 1653067420188,
     "user": {
      "displayName": "Mahesh Yadav",
      "userId": "02224698005666551113"
     },
     "user_tz": -330
    },
    "id": "O-eOuxWH8ylT",
    "outputId": "226593ad-eb42-4676-ece1-e2f0cb8b82f1"
   },
   "outputs": [
    {
     "name": "stdout",
     "output_type": "stream",
     "text": [
      "Training Score  72.22924158486408\n",
      "Testing Score  67.38581146744413\n"
     ]
    }
   ],
   "source": [
    "print('Training Score ',nbc.score(x_train,y_train)*100)\n",
    "print('Testing Score ',nbc.score(x_test,y_test)*100)"
   ]
  },
  {
   "cell_type": "code",
   "execution_count": null,
   "metadata": {
    "colab": {
     "base_uri": "https://localhost:8080/"
    },
    "executionInfo": {
     "elapsed": 391,
     "status": "ok",
     "timestamp": 1653067423697,
     "user": {
      "displayName": "Mahesh Yadav",
      "userId": "02224698005666551113"
     },
     "user_tz": -330
    },
    "id": "_fxgoFQj8yoB",
    "outputId": "376141da-ce61-469c-890c-587db711280f"
   },
   "outputs": [
    {
     "data": {
      "text/plain": [
       "array(['Negative', 'Positive', 'Neutral', ..., 'Neutral', 'Positive',\n",
       "       'Negative'], dtype='<U8')"
      ]
     },
     "execution_count": 28,
     "metadata": {},
     "output_type": "execute_result"
    }
   ],
   "source": [
    "nbc_ypred = nbc.predict(x_test)\n",
    "nbc_ypred"
   ]
  },
  {
   "cell_type": "code",
   "execution_count": null,
   "metadata": {
    "colab": {
     "base_uri": "https://localhost:8080/"
    },
    "executionInfo": {
     "elapsed": 583,
     "status": "ok",
     "timestamp": 1653067430421,
     "user": {
      "displayName": "Mahesh Yadav",
      "userId": "02224698005666551113"
     },
     "user_tz": -330
    },
    "id": "NxQH4rDl8yq7",
    "outputId": "de499132-fc82-4add-89ab-c67a5aa3cdbd"
   },
   "outputs": [
    {
     "name": "stdout",
     "output_type": "stream",
     "text": [
      "Confusion Matrix : \n",
      " [[2753   71 1068]\n",
      " [ 506  386 1043]\n",
      " [ 603   65 3795]]\n",
      "\n",
      "Classification Report : \n",
      "               precision    recall  f1-score   support\n",
      "\n",
      "    Negative       0.71      0.71      0.71      3892\n",
      "     Neutral       0.74      0.20      0.31      1935\n",
      "    Positive       0.64      0.85      0.73      4463\n",
      "\n",
      "    accuracy                           0.67     10290\n",
      "   macro avg       0.70      0.59      0.59     10290\n",
      "weighted avg       0.69      0.67      0.65     10290\n",
      "\n",
      "Multinomial Naive Bayes Accuracy :  67.38581146744413\n"
     ]
    }
   ],
   "source": [
    "cm_nbc = confusion_matrix(y_test,nbc_ypred)\n",
    "print('Confusion Matrix : \\n',cm_nbc)\n",
    "print('\\nClassification Report : \\n',classification_report(y_test,nbc_ypred))\n",
    "nbc_accuracy = accuracy_score(y_test,nbc_ypred)\n",
    "print('Multinomial Naive Bayes Accuracy : ',nbc_accuracy*100)"
   ]
  },
  {
   "cell_type": "code",
   "execution_count": null,
   "metadata": {
    "id": "RNYuxMtv8yv6"
   },
   "outputs": [],
   "source": []
  },
  {
   "cell_type": "markdown",
   "metadata": {
    "id": "P1KFsIZbJFjN"
   },
   "source": [
    "# ##   RANDOM FOREST CLASSIFICATION"
   ]
  },
  {
   "cell_type": "code",
   "execution_count": null,
   "metadata": {
    "id": "T4WJiM18I3g9"
   },
   "outputs": [],
   "source": [
    "from sklearn.ensemble import RandomForestClassifier"
   ]
  },
  {
   "cell_type": "code",
   "execution_count": null,
   "metadata": {
    "colab": {
     "base_uri": "https://localhost:8080/"
    },
    "executionInfo": {
     "elapsed": 19911,
     "status": "ok",
     "timestamp": 1653067668014,
     "user": {
      "displayName": "Mahesh Yadav",
      "userId": "02224698005666551113"
     },
     "user_tz": -330
    },
    "id": "2CAtrkMsI3jj",
    "outputId": "e84dd2cd-22ee-4c6e-edfc-c620b7fe4fe7"
   },
   "outputs": [
    {
     "data": {
      "text/plain": [
       "RandomForestClassifier(criterion='entropy', max_depth=10, n_estimators=80)"
      ]
     },
     "execution_count": 43,
     "metadata": {},
     "output_type": "execute_result"
    }
   ],
   "source": [
    "rfc = RandomForestClassifier(n_estimators = 80, criterion = 'entropy',max_depth = 10)\n",
    "rfc.fit(x_train,y_train)"
   ]
  },
  {
   "cell_type": "code",
   "execution_count": null,
   "metadata": {
    "colab": {
     "base_uri": "https://localhost:8080/"
    },
    "executionInfo": {
     "elapsed": 1398,
     "status": "ok",
     "timestamp": 1653067670872,
     "user": {
      "displayName": "Mahesh Yadav",
      "userId": "02224698005666551113"
     },
     "user_tz": -330
    },
    "id": "1hwlqivDI3mA",
    "outputId": "f69f3110-2db3-4d9c-8a15-6ed3a48a84a0"
   },
   "outputs": [
    {
     "name": "stdout",
     "output_type": "stream",
     "text": [
      "Training Score :  55.72294035701558\n",
      "Testing Score :  54.761904761904766\n"
     ]
    }
   ],
   "source": [
    "print('Training Score : ',rfc.score(x_train,y_train)*100)\n",
    "print('Testing Score : ',rfc.score(x_test,y_test)*100)"
   ]
  },
  {
   "cell_type": "code",
   "execution_count": null,
   "metadata": {
    "colab": {
     "base_uri": "https://localhost:8080/"
    },
    "executionInfo": {
     "elapsed": 408,
     "status": "ok",
     "timestamp": 1653067675982,
     "user": {
      "displayName": "Mahesh Yadav",
      "userId": "02224698005666551113"
     },
     "user_tz": -330
    },
    "id": "cKjC3rf2I3ov",
    "outputId": "a83c751f-94d5-491b-ad4e-d9976db3fb8d"
   },
   "outputs": [
    {
     "data": {
      "text/plain": [
       "array(['Positive', 'Positive', 'Positive', ..., 'Positive', 'Positive',\n",
       "       'Negative'], dtype=object)"
      ]
     },
     "execution_count": 45,
     "metadata": {},
     "output_type": "execute_result"
    }
   ],
   "source": [
    "rfc_ypred = rfc.predict(x_test)\n",
    "rfc_ypred"
   ]
  },
  {
   "cell_type": "code",
   "execution_count": null,
   "metadata": {
    "colab": {
     "base_uri": "https://localhost:8080/"
    },
    "executionInfo": {
     "elapsed": 382,
     "status": "ok",
     "timestamp": 1653067680123,
     "user": {
      "displayName": "Mahesh Yadav",
      "userId": "02224698005666551113"
     },
     "user_tz": -330
    },
    "id": "phqbDyrdI3rG",
    "outputId": "bc9106fd-0789-4516-95ac-053567af0229"
   },
   "outputs": [
    {
     "name": "stdout",
     "output_type": "stream",
     "text": [
      "Confusion Matrix : \n",
      " [[1316    0 2576]\n",
      " [  67    0 1868]\n",
      " [ 144    0 4319]]\n",
      "\n",
      "Classification Report : \n",
      "               precision    recall  f1-score   support\n",
      "\n",
      "    Negative       0.86      0.34      0.49      3892\n",
      "     Neutral       0.00      0.00      0.00      1935\n",
      "    Positive       0.49      0.97      0.65      4463\n",
      "\n",
      "    accuracy                           0.55     10290\n",
      "   macro avg       0.45      0.44      0.38     10290\n",
      "weighted avg       0.54      0.55      0.47     10290\n",
      "\n",
      "RandomForest Classification Accuracy :  54.761904761904766\n"
     ]
    }
   ],
   "source": [
    "cm_rfc = confusion_matrix(y_test,rfc_ypred)\n",
    "print('Confusion Matrix : \\n',cm_rfc)\n",
    "print('\\nClassification Report : \\n',classification_report(y_test,rfc_ypred, zero_division = 0))\n",
    "rfc_accuracy = accuracy_score(y_test,rfc_ypred)\n",
    "print('RandomForest Classification Accuracy : ',rfc_accuracy*100)"
   ]
  },
  {
   "cell_type": "code",
   "execution_count": null,
   "metadata": {
    "id": "2aoDximtThCk"
   },
   "outputs": [],
   "source": []
  },
  {
   "cell_type": "markdown",
   "metadata": {
    "id": "Wrhy7_WbIiaQ"
   },
   "source": [
    "# ## K-NEAREST NEIGHBORS (KNN) CLASSIFICATION"
   ]
  },
  {
   "cell_type": "code",
   "execution_count": null,
   "metadata": {
    "id": "taM8vGKB8yyv"
   },
   "outputs": [],
   "source": [
    "from sklearn.neighbors import KNeighborsClassifier"
   ]
  },
  {
   "cell_type": "code",
   "execution_count": null,
   "metadata": {
    "colab": {
     "base_uri": "https://localhost:8080/"
    },
    "executionInfo": {
     "elapsed": 379,
     "status": "ok",
     "timestamp": 1653068365114,
     "user": {
      "displayName": "Mahesh Yadav",
      "userId": "02224698005666551113"
     },
     "user_tz": -330
    },
    "id": "bIeOECQw8y1L",
    "outputId": "53359da8-4b66-4e9c-d68f-d3c3cef74497"
   },
   "outputs": [
    {
     "data": {
      "text/plain": [
       "KNeighborsClassifier(n_neighbors=150)"
      ]
     },
     "execution_count": 62,
     "metadata": {},
     "output_type": "execute_result"
    }
   ],
   "source": [
    "knn = KNeighborsClassifier(n_neighbors = 150)\n",
    "knn.fit(x_train,y_train)"
   ]
  },
  {
   "cell_type": "code",
   "execution_count": null,
   "metadata": {
    "colab": {
     "base_uri": "https://localhost:8080/"
    },
    "executionInfo": {
     "elapsed": 418899,
     "status": "ok",
     "timestamp": 1653068789792,
     "user": {
      "displayName": "Mahesh Yadav",
      "userId": "02224698005666551113"
     },
     "user_tz": -330
    },
    "id": "dfzHw7jp8y4D",
    "outputId": "47e52023-c096-4248-e78c-1ad404bdeb1b"
   },
   "outputs": [
    {
     "name": "stdout",
     "output_type": "stream",
     "text": [
      "Training Score :  63.81572553212168\n",
      "Testing Score :  63.21671525753159\n"
     ]
    }
   ],
   "source": [
    "# It took a lot of time to execute this cell --> 10-15 minutes\n",
    "print('Training Score : ',knn.score(x_train,y_train)*100)\n",
    "print('Testing Score : ',knn.score(x_test,y_test)*100)"
   ]
  },
  {
   "cell_type": "code",
   "execution_count": null,
   "metadata": {
    "colab": {
     "base_uri": "https://localhost:8080/"
    },
    "executionInfo": {
     "elapsed": 112125,
     "status": "ok",
     "timestamp": 1653068909336,
     "user": {
      "displayName": "Mahesh Yadav",
      "userId": "02224698005666551113"
     },
     "user_tz": -330
    },
    "id": "-MCKq_eb8y6_",
    "outputId": "6115a439-d210-4277-b49a-8f7a995013a3"
   },
   "outputs": [
    {
     "data": {
      "text/plain": [
       "array(['Positive', 'Neutral', 'Neutral', ..., 'Neutral', 'Positive',\n",
       "       'Negative'], dtype=object)"
      ]
     },
     "execution_count": 64,
     "metadata": {},
     "output_type": "execute_result"
    }
   ],
   "source": [
    "# It took a lot of time to execute this cell  --> 5 minutes\n",
    "knn_ypred = knn.predict(x_test)\n",
    "knn_ypred"
   ]
  },
  {
   "cell_type": "code",
   "execution_count": null,
   "metadata": {
    "colab": {
     "base_uri": "https://localhost:8080/"
    },
    "executionInfo": {
     "elapsed": 1300,
     "status": "ok",
     "timestamp": 1653068924233,
     "user": {
      "displayName": "Mahesh Yadav",
      "userId": "02224698005666551113"
     },
     "user_tz": -330
    },
    "id": "R3AFkU4R8y9i",
    "outputId": "406140f6-196b-49bb-aa0f-b4cf77587792"
   },
   "outputs": [
    {
     "name": "stdout",
     "output_type": "stream",
     "text": [
      "Confusion Matrix : \n",
      " [[2292  532 1068]\n",
      " [ 324  958  653]\n",
      " [ 565  643 3255]]\n",
      "\n",
      "Classification Report : \n",
      "               precision    recall  f1-score   support\n",
      "\n",
      "    Negative       0.72      0.59      0.65      3892\n",
      "     Neutral       0.45      0.50      0.47      1935\n",
      "    Positive       0.65      0.73      0.69      4463\n",
      "\n",
      "    accuracy                           0.63     10290\n",
      "   macro avg       0.61      0.60      0.60     10290\n",
      "weighted avg       0.64      0.63      0.63     10290\n",
      "\n",
      "KNN Accuracy :  63.21671525753159\n"
     ]
    }
   ],
   "source": [
    "cm_knn = confusion_matrix(y_test,knn_ypred)\n",
    "print('Confusion Matrix : \\n',cm_knn)\n",
    "print('\\nClassification Report : \\n',classification_report(y_test,knn_ypred))\n",
    "knn_accuracy = accuracy_score(y_test,knn_ypred)\n",
    "print('KNN Accuracy : ',knn_accuracy*100)"
   ]
  },
  {
   "cell_type": "code",
   "execution_count": null,
   "metadata": {
    "id": "8XJ8ja4fI3eD"
   },
   "outputs": [],
   "source": []
  },
  {
   "cell_type": "code",
   "execution_count": null,
   "metadata": {
    "id": "pvv8zNi_I31z"
   },
   "outputs": [],
   "source": []
  },
  {
   "cell_type": "markdown",
   "metadata": {
    "id": "9Ni6FUmPNGtQ"
   },
   "source": [
    "# ## DECISION TREE CLASSIFICATION"
   ]
  },
  {
   "cell_type": "code",
   "execution_count": null,
   "metadata": {
    "id": "JqweilM5I34m"
   },
   "outputs": [],
   "source": [
    "from sklearn.tree import DecisionTreeClassifier"
   ]
  },
  {
   "cell_type": "code",
   "execution_count": null,
   "metadata": {
    "colab": {
     "base_uri": "https://localhost:8080/"
    },
    "executionInfo": {
     "elapsed": 35436,
     "status": "ok",
     "timestamp": 1653068101433,
     "user": {
      "displayName": "Mahesh Yadav",
      "userId": "02224698005666551113"
     },
     "user_tz": -330
    },
    "id": "PcXVbjoZI37U",
    "outputId": "a270a4c6-7fe6-4217-f374-050d74cbd76f"
   },
   "outputs": [
    {
     "data": {
      "text/plain": [
       "DecisionTreeClassifier(max_depth=12)"
      ]
     },
     "execution_count": 52,
     "metadata": {},
     "output_type": "execute_result"
    }
   ],
   "source": [
    "# it took 30 sec to execute\n",
    "dtc = DecisionTreeClassifier(criterion = 'gini',max_depth = 12)\n",
    "dtc.fit(x_train,y_train)"
   ]
  },
  {
   "cell_type": "code",
   "execution_count": null,
   "metadata": {
    "colab": {
     "base_uri": "https://localhost:8080/"
    },
    "executionInfo": {
     "elapsed": 1791,
     "status": "ok",
     "timestamp": 1653068117891,
     "user": {
      "displayName": "Mahesh Yadav",
      "userId": "02224698005666551113"
     },
     "user_tz": -330
    },
    "id": "IxfADw_6I39s",
    "outputId": "b1fc6c2a-8970-46b6-f9cc-1ea0f7e2cb91"
   },
   "outputs": [
    {
     "name": "stdout",
     "output_type": "stream",
     "text": [
      "Training Score :  56.51990799235429\n",
      "Testing Score :  54.65500485908649\n"
     ]
    }
   ],
   "source": [
    "print('Training Score : ',dtc.score(x_train,y_train)*100)\n",
    "print('Testing Score : ',dtc.score(x_test,y_test)*100)"
   ]
  },
  {
   "cell_type": "code",
   "execution_count": null,
   "metadata": {
    "colab": {
     "base_uri": "https://localhost:8080/"
    },
    "executionInfo": {
     "elapsed": 384,
     "status": "ok",
     "timestamp": 1653068125157,
     "user": {
      "displayName": "Mahesh Yadav",
      "userId": "02224698005666551113"
     },
     "user_tz": -330
    },
    "id": "9R1XSE66I4Ar",
    "outputId": "423d5eb5-f9f1-4fa3-bb11-e80b6ab2524e"
   },
   "outputs": [
    {
     "data": {
      "text/plain": [
       "array(['Negative', 'Positive', 'Neutral', ..., 'Neutral', 'Positive',\n",
       "       'Negative'], dtype=object)"
      ]
     },
     "execution_count": 54,
     "metadata": {},
     "output_type": "execute_result"
    }
   ],
   "source": [
    "dtc_ypred = dtc.predict(x_test)\n",
    "dtc_ypred"
   ]
  },
  {
   "cell_type": "code",
   "execution_count": null,
   "metadata": {
    "colab": {
     "base_uri": "https://localhost:8080/"
    },
    "executionInfo": {
     "elapsed": 1010,
     "status": "ok",
     "timestamp": 1653068128738,
     "user": {
      "displayName": "Mahesh Yadav",
      "userId": "02224698005666551113"
     },
     "user_tz": -330
    },
    "id": "wFzYmihfNaI3",
    "outputId": "a87d2de7-2807-48c5-e170-e9626151374b"
   },
   "outputs": [
    {
     "name": "stdout",
     "output_type": "stream",
     "text": [
      "Confusion Matrix : \n",
      " [[3044  121  727]\n",
      " [1088  311  536]\n",
      " [2042  152 2269]]\n",
      "\n",
      "Classification Report : \n",
      "               precision    recall  f1-score   support\n",
      "\n",
      "    Negative       0.49      0.78      0.60      3892\n",
      "     Neutral       0.53      0.16      0.25      1935\n",
      "    Positive       0.64      0.51      0.57      4463\n",
      "\n",
      "    accuracy                           0.55     10290\n",
      "   macro avg       0.56      0.48      0.47     10290\n",
      "weighted avg       0.57      0.55      0.52     10290\n",
      "\n",
      "Decition Tree Classification Accuracy :  54.65500485908649\n"
     ]
    }
   ],
   "source": [
    "cm_dtc = confusion_matrix(y_test,dtc_ypred)\n",
    "print('Confusion Matrix : \\n',cm_dtc)\n",
    "print('\\nClassification Report : \\n',classification_report(y_test,dtc_ypred))\n",
    "dtc_accuracy = accuracy_score(y_test,dtc_ypred)\n",
    "print('Decition Tree Classification Accuracy : ',dtc_accuracy*100)"
   ]
  },
  {
   "cell_type": "code",
   "execution_count": null,
   "metadata": {
    "id": "S1pB59HpNaLv"
   },
   "outputs": [],
   "source": []
  },
  {
   "cell_type": "markdown",
   "metadata": {
    "id": "1jRgiA-NPD2C"
   },
   "source": [
    "# ## LOGISTIC REGRESSION"
   ]
  },
  {
   "cell_type": "code",
   "execution_count": null,
   "metadata": {
    "id": "doFlnSnfNaie"
   },
   "outputs": [],
   "source": [
    "from sklearn.linear_model import LogisticRegression"
   ]
  },
  {
   "cell_type": "code",
   "execution_count": null,
   "metadata": {
    "colab": {
     "base_uri": "https://localhost:8080/"
    },
    "executionInfo": {
     "elapsed": 2130,
     "status": "ok",
     "timestamp": 1653068330459,
     "user": {
      "displayName": "Mahesh Yadav",
      "userId": "02224698005666551113"
     },
     "user_tz": -330
    },
    "id": "AJHa1GU6Nalc",
    "outputId": "d2ee26a4-b478-403d-8fb8-12f2980637ab"
   },
   "outputs": [
    {
     "data": {
      "text/plain": [
       "LogisticRegression(solver='liblinear')"
      ]
     },
     "execution_count": 58,
     "metadata": {},
     "output_type": "execute_result"
    }
   ],
   "source": [
    "lr = LogisticRegression(solver = 'liblinear')\n",
    "lr.fit(x_train,y_train)"
   ]
  },
  {
   "cell_type": "code",
   "execution_count": null,
   "metadata": {
    "colab": {
     "base_uri": "https://localhost:8080/"
    },
    "executionInfo": {
     "elapsed": 996,
     "status": "ok",
     "timestamp": 1653068335182,
     "user": {
      "displayName": "Mahesh Yadav",
      "userId": "02224698005666551113"
     },
     "user_tz": -330
    },
    "id": "vsmMHl28Prub",
    "outputId": "6716ffbc-5f5f-4d61-ba2f-6a9f52b106c6"
   },
   "outputs": [
    {
     "name": "stdout",
     "output_type": "stream",
     "text": [
      "Training Score :  84.62435610846535\n",
      "Testing Score :  78.68804664723032\n"
     ]
    }
   ],
   "source": [
    "print('Training Score : ',lr.score(x_train,y_train)*100)\n",
    "print('Testing Score : ',lr.score(x_test,y_test)*100)"
   ]
  },
  {
   "cell_type": "code",
   "execution_count": null,
   "metadata": {
    "colab": {
     "base_uri": "https://localhost:8080/"
    },
    "executionInfo": {
     "elapsed": 392,
     "status": "ok",
     "timestamp": 1653068339882,
     "user": {
      "displayName": "Mahesh Yadav",
      "userId": "02224698005666551113"
     },
     "user_tz": -330
    },
    "id": "4GGV5UnXNant",
    "outputId": "3fd1b99f-8808-4e11-b639-9d09d53f44e6"
   },
   "outputs": [
    {
     "data": {
      "text/plain": [
       "array(['Negative', 'Positive', 'Neutral', ..., 'Neutral', 'Positive',\n",
       "       'Negative'], dtype=object)"
      ]
     },
     "execution_count": 60,
     "metadata": {},
     "output_type": "execute_result"
    }
   ],
   "source": [
    "lr_ypred = lr.predict(x_test)\n",
    "lr_ypred"
   ]
  },
  {
   "cell_type": "code",
   "execution_count": null,
   "metadata": {
    "colab": {
     "base_uri": "https://localhost:8080/"
    },
    "executionInfo": {
     "elapsed": 690,
     "status": "ok",
     "timestamp": 1653068343327,
     "user": {
      "displayName": "Mahesh Yadav",
      "userId": "02224698005666551113"
     },
     "user_tz": -330
    },
    "id": "nG8765d9NaqX",
    "outputId": "06201bed-aa22-4ec5-b520-39004a28570a"
   },
   "outputs": [
    {
     "name": "stdout",
     "output_type": "stream",
     "text": [
      "Confusion Matrix : \n",
      " [[3145  190  557]\n",
      " [ 394 1090  451]\n",
      " [ 427  174 3862]]\n",
      "\n",
      "Classification Report : \n",
      "               precision    recall  f1-score   support\n",
      "\n",
      "    Negative       0.79      0.81      0.80      3892\n",
      "     Neutral       0.75      0.56      0.64      1935\n",
      "    Positive       0.79      0.87      0.83      4463\n",
      "\n",
      "    accuracy                           0.79     10290\n",
      "   macro avg       0.78      0.75      0.76     10290\n",
      "weighted avg       0.78      0.79      0.78     10290\n",
      "\n",
      "Logistic Regression Classification Accuracy :  78.68804664723032\n"
     ]
    }
   ],
   "source": [
    "cm_lr = confusion_matrix(y_test,lr_ypred)\n",
    "print('Confusion Matrix : \\n',cm_lr)\n",
    "print('\\nClassification Report : \\n',classification_report(y_test,lr_ypred))\n",
    "lr_accuracy = accuracy_score(y_test,lr_ypred)\n",
    "print('Logistic Regression Classification Accuracy : ',lr_accuracy*100)"
   ]
  },
  {
   "cell_type": "code",
   "execution_count": null,
   "metadata": {
    "id": "E0kM4LBJNaN3"
   },
   "outputs": [],
   "source": []
  },
  {
   "cell_type": "markdown",
   "metadata": {
    "id": "JMoC-qRuOS1I"
   },
   "source": [
    "# ## SUPPORT VECTOR MACHINES (SVM)"
   ]
  },
  {
   "cell_type": "code",
   "execution_count": null,
   "metadata": {
    "id": "YoPA4r8uNaQo"
   },
   "outputs": [],
   "source": [
    "#from sklearn.svm import SVC"
   ]
  },
  {
   "cell_type": "code",
   "execution_count": null,
   "metadata": {
    "id": "2PAhfWswNaTJ"
   },
   "outputs": [],
   "source": [
    "# pip install mlxtend\n",
    "#import mlxtend\n",
    "#from mlxtend.plotting import plot_decision_regions"
   ]
  },
  {
   "cell_type": "code",
   "execution_count": null,
   "metadata": {
    "id": "s982XlgUXLxC"
   },
   "outputs": [],
   "source": [
    "'''# It took a lot of time to execute this cell\n",
    "svm = SVC(kernel = 'linear', C = 0.1)\n",
    "svm.fit(x_train,y_train)'''"
   ]
  },
  {
   "cell_type": "code",
   "execution_count": null,
   "metadata": {
    "id": "wRdXZBV3NaYS"
   },
   "outputs": [],
   "source": [
    "#print('Training Score : ',svm.score(x_train,y_train)*100)\n",
    "#print('Testing Score : ',svm.score(x_test,y_test)*100)"
   ]
  },
  {
   "cell_type": "code",
   "execution_count": null,
   "metadata": {
    "id": "xpIc_5sVNaap"
   },
   "outputs": [],
   "source": [
    "#svm_ypred = svm.predict(x_test)\n",
    "#svm_ypred"
   ]
  },
  {
   "cell_type": "code",
   "execution_count": null,
   "metadata": {
    "id": "k79WoZlRNadP"
   },
   "outputs": [],
   "source": [
    "'''cm_svm = confusion_matrix(y_test,svm_ypred)\n",
    "print('Confusion Matrix : \\n',cm_svm)\n",
    "print('\\nClassification Report : \\n',classification_report(y_test,svm_ypred))\n",
    "svm_accuracy = accuracy_score(y_test,svm_ypred)\n",
    "print('Decition Tree Classification Accuracy : ',svm_accuracy*100)'''"
   ]
  },
  {
   "cell_type": "code",
   "execution_count": null,
   "metadata": {
    "id": "DgkCnByWNaf_"
   },
   "outputs": [],
   "source": []
  },
  {
   "cell_type": "markdown",
   "metadata": {
    "id": "rqYEDinjQikc"
   },
   "source": [
    "# ##ACCURACIES OF ALL THE ALGORITHMS"
   ]
  },
  {
   "cell_type": "code",
   "execution_count": null,
   "metadata": {
    "colab": {
     "base_uri": "https://localhost:8080/"
    },
    "executionInfo": {
     "elapsed": 420,
     "status": "ok",
     "timestamp": 1653069003010,
     "user": {
      "displayName": "Mahesh Yadav",
      "userId": "02224698005666551113"
     },
     "user_tz": -330
    },
    "id": "5pWtyz8UPQC-",
    "outputId": "079f6b8b-417e-4cdc-a067-8649bcdc3c91"
   },
   "outputs": [
    {
     "name": "stdout",
     "output_type": "stream",
     "text": [
      "Multinomial Naive Bayes Model - Accuracy :  67.38581146744413\n",
      "Random Forest Classification Model - Accuracy :  54.761904761904766\n",
      "KNN Model - Accuracy :  63.21671525753159\n",
      "Decision Tree Classification Model - Accuracy :  54.65500485908649\n",
      "Logistic Regression Model - Accuracy :  78.68804664723032\n"
     ]
    }
   ],
   "source": [
    "print('Multinomial Naive Bayes Model - Accuracy : ',nbc_accuracy*100)\n",
    "print('Random Forest Classification Model - Accuracy : ',rfc_accuracy*100)\n",
    "print('KNN Model - Accuracy : ',knn_accuracy*100)\n",
    "print('Decision Tree Classification Model - Accuracy : ',dtc_accuracy*100)\n",
    "print('Logistic Regression Model - Accuracy : ',lr_accuracy*100)\n",
    "#print('SVM Model- Accuracy : ',svm_accuracy*100)"
   ]
  },
  {
   "cell_type": "code",
   "execution_count": null,
   "metadata": {
    "colab": {
     "base_uri": "https://localhost:8080/",
     "height": 295
    },
    "executionInfo": {
     "elapsed": 466,
     "status": "ok",
     "timestamp": 1653069025773,
     "user": {
      "displayName": "Mahesh Yadav",
      "userId": "02224698005666551113"
     },
     "user_tz": -330
    },
    "id": "u7rfNiDyPQFl",
    "outputId": "ec3a7826-b9bc-4f80-efbc-7d31d82c4cb2"
   },
   "outputs": [
    {
     "data": {
      "image/png": "[encoded data removed]",
      "text/plain": [
       "<Figure size 432x288 with 1 Axes>"
      ]
     },
     "metadata": {
      "needs_background": "light"
     },
     "output_type": "display_data"
    }
   ],
   "source": [
    "plt.bar(x=['MNBC','RFCN','KNN','DTC','LR'],height = [nbc_accuracy*100,rfc_accuracy*100,knn_accuracy*100,dtc_accuracy*100,lr_accuracy*100])\n",
    "plt.title('ML Models with their Accuracies')\n",
    "plt.xlabel(\"ML MODELS\")\n",
    "plt.ylabel(\"Accuracy Score\")\n",
    "plt.show()\n",
    "# 'SVM'     ,svm_accuracy*100        ,'svm_ypred':svm_ypred"
   ]
  },
  {
   "cell_type": "code",
   "execution_count": null,
   "metadata": {
    "colab": {
     "base_uri": "https://localhost:8080/",
     "height": 424
    },
    "executionInfo": {
     "elapsed": 409,
     "status": "ok",
     "timestamp": 1653069040506,
     "user": {
      "displayName": "Mahesh Yadav",
      "userId": "02224698005666551113"
     },
     "user_tz": -330
    },
    "id": "SMtq-6jRQuaC",
    "outputId": "9fecd872-b7e4-460c-87d4-ce261d6f0476"
   },
   "outputs": [
    {
     "data": {
      "text/html": [
       "\n",
       "  <div id=\"df-de5443ee-d9bd-4484-8223-4906fd34ccb7\">\n",
       "    <div class=\"colab-df-container\">\n",
       "      <div>\n",
       "<style scoped>\n",
       "    .dataframe tbody tr th:only-of-type {\n",
       "        vertical-align: middle;\n",
       "    }\n",
       "\n",
       "    .dataframe tbody tr th {\n",
       "        vertical-align: top;\n",
       "    }\n",
       "\n",
       "    .dataframe thead th {\n",
       "        text-align: right;\n",
       "    }\n",
       "</style>\n",
       "<table border=\"1\" class=\"dataframe\">\n",
       "  <thead>\n",
       "    <tr style=\"text-align: right;\">\n",
       "      <th></th>\n",
       "      <th>y_test</th>\n",
       "      <th>nbc_ypred</th>\n",
       "      <th>rfc_ypred</th>\n",
       "      <th>knn_ypred</th>\n",
       "      <th>dtc_ypred</th>\n",
       "      <th>lr_ypred</th>\n",
       "    </tr>\n",
       "  </thead>\n",
       "  <tbody>\n",
       "    <tr>\n",
       "      <th>20797</th>\n",
       "      <td>Negative</td>\n",
       "      <td>Negative</td>\n",
       "      <td>Positive</td>\n",
       "      <td>Positive</td>\n",
       "      <td>Negative</td>\n",
       "      <td>Negative</td>\n",
       "    </tr>\n",
       "    <tr>\n",
       "      <th>13373</th>\n",
       "      <td>Positive</td>\n",
       "      <td>Positive</td>\n",
       "      <td>Positive</td>\n",
       "      <td>Neutral</td>\n",
       "      <td>Positive</td>\n",
       "      <td>Positive</td>\n",
       "    </tr>\n",
       "    <tr>\n",
       "      <th>26989</th>\n",
       "      <td>Negative</td>\n",
       "      <td>Neutral</td>\n",
       "      <td>Positive</td>\n",
       "      <td>Neutral</td>\n",
       "      <td>Neutral</td>\n",
       "      <td>Neutral</td>\n",
       "    </tr>\n",
       "    <tr>\n",
       "      <th>10524</th>\n",
       "      <td>Negative</td>\n",
       "      <td>Positive</td>\n",
       "      <td>Positive</td>\n",
       "      <td>Positive</td>\n",
       "      <td>Negative</td>\n",
       "      <td>Negative</td>\n",
       "    </tr>\n",
       "    <tr>\n",
       "      <th>32461</th>\n",
       "      <td>Positive</td>\n",
       "      <td>Positive</td>\n",
       "      <td>Positive</td>\n",
       "      <td>Positive</td>\n",
       "      <td>Positive</td>\n",
       "      <td>Positive</td>\n",
       "    </tr>\n",
       "    <tr>\n",
       "      <th>...</th>\n",
       "      <td>...</td>\n",
       "      <td>...</td>\n",
       "      <td>...</td>\n",
       "      <td>...</td>\n",
       "      <td>...</td>\n",
       "      <td>...</td>\n",
       "    </tr>\n",
       "    <tr>\n",
       "      <th>38111</th>\n",
       "      <td>Positive</td>\n",
       "      <td>Positive</td>\n",
       "      <td>Positive</td>\n",
       "      <td>Positive</td>\n",
       "      <td>Negative</td>\n",
       "      <td>Positive</td>\n",
       "    </tr>\n",
       "    <tr>\n",
       "      <th>26799</th>\n",
       "      <td>Positive</td>\n",
       "      <td>Positive</td>\n",
       "      <td>Positive</td>\n",
       "      <td>Positive</td>\n",
       "      <td>Positive</td>\n",
       "      <td>Positive</td>\n",
       "    </tr>\n",
       "    <tr>\n",
       "      <th>17420</th>\n",
       "      <td>Neutral</td>\n",
       "      <td>Neutral</td>\n",
       "      <td>Positive</td>\n",
       "      <td>Neutral</td>\n",
       "      <td>Neutral</td>\n",
       "      <td>Neutral</td>\n",
       "    </tr>\n",
       "    <tr>\n",
       "      <th>17405</th>\n",
       "      <td>Positive</td>\n",
       "      <td>Positive</td>\n",
       "      <td>Positive</td>\n",
       "      <td>Positive</td>\n",
       "      <td>Positive</td>\n",
       "      <td>Positive</td>\n",
       "    </tr>\n",
       "    <tr>\n",
       "      <th>4145</th>\n",
       "      <td>Negative</td>\n",
       "      <td>Negative</td>\n",
       "      <td>Negative</td>\n",
       "      <td>Negative</td>\n",
       "      <td>Negative</td>\n",
       "      <td>Negative</td>\n",
       "    </tr>\n",
       "  </tbody>\n",
       "</table>\n",
       "<p>10290 rows × 6 columns</p>\n",
       "</div>\n",
       "      <button class=\"colab-df-convert\" onclick=\"convertToInteractive('df-de5443ee-d9bd-4484-8223-4906fd34ccb7')\"\n",
       "              title=\"Convert this dataframe to an interactive table.\"\n",
       "              style=\"display:none;\">\n",
       "        \n",
       "  <svg xmlns=\"http://www.w3.org/2000/svg\" height=\"24px\"viewBox=\"0 0 24 24\"\n",
       "       width=\"24px\">\n",
       "    <path d=\"M0 0h24v24H0V0z\" fill=\"none\"/>\n",
       "    <path d=\"M18.56 5.44l.94 2.06.94-2.06 2.06-.94-2.06-.94-.94-2.06-.94 2.06-2.06.94zm-11 1L8.5 8.5l.94-2.06 2.06-.94-2.06-.94L8.5 2.5l-.94 2.06-2.06.94zm10 10l.94 2.06.94-2.06 2.06-.94-2.06-.94-.94-2.06-.94 2.06-2.06.94z\"/><path d=\"M17.41 7.96l-1.37-1.37c-.4-.4-.92-.59-1.43-.59-.52 0-1.04.2-1.43.59L10.3 9.45l-7.72 7.72c-.78.78-.78 2.05 0 2.83L4 21.41c.39.39.9.59 1.41.59.51 0 1.02-.2 1.41-.59l7.78-7.78 2.81-2.81c.8-.78.8-2.07 0-2.86zM5.41 20L4 18.59l7.72-7.72 1.47 1.35L5.41 20z\"/>\n",
       "  </svg>\n",
       "      </button>\n",
       "      \n",
       "  <style>\n",
       "    .colab-df-container {\n",
       "      display:flex;\n",
       "      flex-wrap:wrap;\n",
       "      gap: 12px;\n",
       "    }\n",
       "\n",
       "    .colab-df-convert {\n",
       "      background-color: #E8F0FE;\n",
       "      border: none;\n",
       "      border-radius: 50%;\n",
       "      cursor: pointer;\n",
       "      display: none;\n",
       "      fill: #1967D2;\n",
       "      height: 32px;\n",
       "      padding: 0 0 0 0;\n",
       "      width: 32px;\n",
       "    }\n",
       "\n",
       "    .colab-df-convert:hover {\n",
       "      background-color: #E2EBFA;\n",
       "      box-shadow: 0px 1px 2px rgba(60, 64, 67, 0.3), 0px 1px 3px 1px rgba(60, 64, 67, 0.15);\n",
       "      fill: #174EA6;\n",
       "    }\n",
       "\n",
       "    [theme=dark] .colab-df-convert {\n",
       "      background-color: #3B4455;\n",
       "      fill: #D2E3FC;\n",
       "    }\n",
       "\n",
       "    [theme=dark] .colab-df-convert:hover {\n",
       "      background-color: #434B5C;\n",
       "      box-shadow: 0px 1px 3px 1px rgba(0, 0, 0, 0.15);\n",
       "      filter: drop-shadow(0px 1px 2px rgba(0, 0, 0, 0.3));\n",
       "      fill: #FFFFFF;\n",
       "    }\n",
       "  </style>\n",
       "\n",
       "      <script>\n",
       "        const buttonEl =\n",
       "          document.querySelector('#df-de5443ee-d9bd-4484-8223-4906fd34ccb7 button.colab-df-convert');\n",
       "        buttonEl.style.display =\n",
       "          google.colab.kernel.accessAllowed ? 'block' : 'none';\n",
       "\n",
       "        async function convertToInteractive(key) {\n",
       "          const element = document.querySelector('#df-de5443ee-d9bd-4484-8223-4906fd34ccb7');\n",
       "          const dataTable =\n",
       "            await google.colab.kernel.invokeFunction('convertToInteractive',\n",
       "                                                     [key], {});\n",
       "          if (!dataTable) return;\n",
       "\n",
       "          const docLinkHtml = 'Like what you see? Visit the ' +\n",
       "            '<a target=\"_blank\" href=https://colab.research.google.com/notebooks/data_table.ipynb>data table notebook</a>'\n",
       "            + ' to learn more about interactive tables.';\n",
       "          element.innerHTML = '';\n",
       "          dataTable['output_type'] = 'display_data';\n",
       "          await google.colab.output.renderOutput(dataTable, element);\n",
       "          const docLink = document.createElement('div');\n",
       "          docLink.innerHTML = docLinkHtml;\n",
       "          element.appendChild(docLink);\n",
       "        }\n",
       "      </script>\n",
       "    </div>\n",
       "  </div>\n",
       "  "
      ],
      "text/plain": [
       "         y_test nbc_ypred rfc_ypred knn_ypred dtc_ypred  lr_ypred\n",
       "20797  Negative  Negative  Positive  Positive  Negative  Negative\n",
       "13373  Positive  Positive  Positive   Neutral  Positive  Positive\n",
       "26989  Negative   Neutral  Positive   Neutral   Neutral   Neutral\n",
       "10524  Negative  Positive  Positive  Positive  Negative  Negative\n",
       "32461  Positive  Positive  Positive  Positive  Positive  Positive\n",
       "...         ...       ...       ...       ...       ...       ...\n",
       "38111  Positive  Positive  Positive  Positive  Negative  Positive\n",
       "26799  Positive  Positive  Positive  Positive  Positive  Positive\n",
       "17420   Neutral   Neutral  Positive   Neutral   Neutral   Neutral\n",
       "17405  Positive  Positive  Positive  Positive  Positive  Positive\n",
       "4145   Negative  Negative  Negative  Negative  Negative  Negative\n",
       "\n",
       "[10290 rows x 6 columns]"
      ]
     },
     "execution_count": 68,
     "metadata": {},
     "output_type": "execute_result"
    }
   ],
   "source": [
    "sentiment_1 = pd.DataFrame({'y_test':y_test,'nbc_ypred':nbc_ypred,'rfc_ypred':rfc_ypred,'knn_ypred':knn_ypred,'dtc_ypred':dtc_ypred,'lr_ypred':lr_ypred})\n",
    "sentiment_1"
   ]
  },
  {
   "cell_type": "markdown",
   "metadata": {
    "id": "w5Wvk3iimVlH"
   },
   "source": [
    "# ## HENCE, OUT OF ( Multinomial Naive Bayes, RandomForest, KNN )--MODELS, MAYBE\n",
    "# ## MULTINOMIAL NAIVE BAYES MODEL GIVES THE BEST RESULTS."
   ]
  },
  {
   "cell_type": "code",
   "execution_count": 69,
   "metadata": {
    "colab": {
     "base_uri": "https://localhost:8080/"
    },
    "executionInfo": {
     "elapsed": 516,
     "status": "ok",
     "timestamp": 1653069628174,
     "user": {
      "displayName": "Mahesh Yadav",
      "userId": "02224698005666551113"
     },
     "user_tz": -330
    },
    "id": "wSFfzYVYnSVV",
    "outputId": "5903442f-3591-4267-8ed7-e5de9b873932"
   },
   "outputs": [
    {
     "name": "stdout",
     "output_type": "stream",
     "text": [
      "Multinomial Naive Bayes Model - Accuracy :  67.38581146744413\n"
     ]
    }
   ],
   "source": [
    "print('Multinomial Naive Bayes Model - Accuracy : ',nbc_accuracy*100)"
   ]
  },
  {
   "cell_type": "markdown",
   "metadata": {
    "id": "G5q8E3Yum0AY"
   },
   "source": [
    "# ## BUT OUT OF ( Multinomial Naive Bayes, RandomForest, KNN, Decision Tree,            Logistic Regression )--MODELS, MAYBE\n",
    "# ## LOGISTIC REGRESSION MODEL GIVES THE BEST RESULTS."
   ]
  },
  {
   "cell_type": "code",
   "execution_count": 70,
   "metadata": {
    "colab": {
     "base_uri": "https://localhost:8080/"
    },
    "executionInfo": {
     "elapsed": 365,
     "status": "ok",
     "timestamp": 1653069644858,
     "user": {
      "displayName": "Mahesh Yadav",
      "userId": "02224698005666551113"
     },
     "user_tz": -330
    },
    "id": "VmzKxUe7Qucw",
    "outputId": "4da296a0-f499-4274-bbdd-9f227e877549"
   },
   "outputs": [
    {
     "name": "stdout",
     "output_type": "stream",
     "text": [
      "Logistic Regression Model - Accuracy :  78.68804664723032\n"
     ]
    }
   ],
   "source": [
    "print('Logistic Regression Model - Accuracy : ',lr_accuracy*100)"
   ]
  },
  {
   "cell_type": "code",
   "execution_count": null,
   "metadata": {
    "id": "hbp29ZsDQuff"
   },
   "outputs": [],
   "source": []
  }
 ],
 "metadata": {
  "colab": {
   "authorship_tag": "ABX9TyPDaSIhUh7rgLv+Wd7TNULF",
   "collapsed_sections": [],
   "name": "MAJOR_PROJECT.ipynb",
   "provenance": []
  },
  "kernelspec": {
   "display_name": "Python 3 (ipykernel)",
   "language": "python",
   "name": "python3"
  },
  "language_info": {
   "codemirror_mode": {
    "name": "ipython",
    "version": 3
   },
   "file_extension": ".py",
   "mimetype": "text/x-python",
   "name": "python",
   "nbconvert_exporter": "python",
   "pygments_lexer": "ipython3",
   "version": "3.10.9"
  }
 },
 "nbformat": 4,
 "nbformat_minor": 1
}
