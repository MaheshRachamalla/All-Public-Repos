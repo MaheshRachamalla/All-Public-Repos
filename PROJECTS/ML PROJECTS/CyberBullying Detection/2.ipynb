{
 "cells": [
  {
   "cell_type": "code",
   "execution_count": 1,
   "id": "7180eff8",
   "metadata": {},
   "outputs": [],
   "source": [
    "# PREDICTION PIPELINE\n",
    "# ---------------------------\n",
    "# 1. load the data\n",
    "# 2. Feature Engineering Steps / Data Preprocessing or Cleansing Steps\n",
    "#         removal/filling of null values\n",
    "#         removal of duplicate values\n",
    "#         removing outliers\n",
    "#         standardization & scaling\n",
    "#         encoding categorical variable\n",
    "# 3. Split the data into train & test data\n",
    "# 4. Select approriate model\n",
    "# 5. fit the model on training data\n",
    "#         so that model is able to capture the features\n",
    "#         it is a training part\n",
    "# 6. derive prediction on the test data\n",
    "# 7. generate algorithm metrics\n",
    "#         to determine how good a model is performing\n",
    "# 8. tune model parameters\n",
    "# 9. retrain the model(frorm step 6)"
   ]
  },
  {
   "cell_type": "code",
   "execution_count": 2,
   "id": "6d131dee",
   "metadata": {},
   "outputs": [],
   "source": [
    "import numpy as np \n",
    "import pandas as pd \n",
    "import matplotlib.pyplot as plt\n",
    "import seaborn as sns\n",
    "from sklearn.model_selection import train_test_split, GridSearchCV\n",
    "from sklearn.feature_extraction.text import CountVectorizer, TfidfVectorizer\n",
    "from sklearn.metrics import f1_score, accuracy_score, precision_score, recall_score, make_scorer, confusion_matrix, classification_report,silhouette_score\n",
    "from time import time\n",
    "import string\n",
    "import re\n",
    "import nltk\n",
    "from sklearn.naive_bayes import MultinomialNB\n",
    "from sklearn.tree import DecisionTreeClassifier\n",
    "from sklearn.svm import LinearSVC, SVC\n",
    "from sklearn.ensemble import AdaBoostClassifier\n",
    "from sklearn.linear_model import SGDClassifier,LogisticRegression\n",
    "from sklearn.neighbors import KNeighborsClassifier\n",
    "from sklearn.cluster import KMeans\n",
    "from sklearn.decomposition import TruncatedSVD\n",
    "from sklearn.pipeline import make_pipeline\n",
    "import warnings\n",
    "warnings.filterwarnings('ignore')"
   ]
  },
  {
   "cell_type": "code",
   "execution_count": 3,
   "id": "1f2728b7",
   "metadata": {},
   "outputs": [
    {
     "data": {
      "text/plain": [
       "'C:\\\\Users\\\\Rachamalla\\\\Desktop\\\\Anaconda_Python\\\\miniProject'"
      ]
     },
     "execution_count": 3,
     "metadata": {},
     "output_type": "execute_result"
    }
   ],
   "source": [
    "pwd"
   ]
  },
  {
   "cell_type": "code",
   "execution_count": 4,
   "id": "24b058ae",
   "metadata": {},
   "outputs": [],
   "source": [
    "#read the dataset\n",
    "\n",
    "# from google.colab import drive\n",
    "# drive.mount('/content/drive')\n",
    "# df = pd.read_csv('/content/drive/My Drive/ACADEMICS/Verzeo ML/PROJECTS/MAJOR PROJECT/Corona_NLP (2).csv', encoding = 'latin1')\n",
    "\n",
    "df = pd.read_csv('C:/Users/Rachamalla/Desktop/Anaconda_Python/miniProject/cyber_labelled.csv')"
   ]
  },
  {
   "cell_type": "markdown",
   "id": "9eede8d3",
   "metadata": {},
   "source": [
    "# ***Feature Engineering Steps / Data Preprocessing Steps***\n",
    "####        removal/filling of null values\n",
    "####        removal of duplicate values\n",
    "####        removing outliers\n",
    "####        standardization & scaling\n",
    "####        encoding categorical variable"
   ]
  },
  {
   "cell_type": "code",
   "execution_count": 5,
   "id": "ea23f71e",
   "metadata": {},
   "outputs": [
    {
     "name": "stdout",
     "output_type": "stream",
     "text": [
      "<class 'pandas.core.frame.DataFrame'>\n",
      "RangeIndex: 35787 entries, 0 to 35786\n",
      "Data columns (total 2 columns):\n",
      " #   Column     Non-Null Count  Dtype \n",
      "---  ------     --------------  ----- \n",
      " 0   full_text  35787 non-null  object\n",
      " 1   label      35787 non-null  int64 \n",
      "dtypes: int64(1), object(1)\n",
      "memory usage: 559.3+ KB\n"
     ]
    }
   ],
   "source": [
    "df.info()"
   ]
  },
  {
   "cell_type": "code",
   "execution_count": 6,
   "id": "10356769",
   "metadata": {},
   "outputs": [
    {
     "data": {
      "text/plain": [
       "full_text    object\n",
       "label         int64\n",
       "dtype: object"
      ]
     },
     "execution_count": 6,
     "metadata": {},
     "output_type": "execute_result"
    }
   ],
   "source": [
    "df.dtypes"
   ]
  },
  {
   "cell_type": "code",
   "execution_count": 7,
   "id": "6398fd16",
   "metadata": {},
   "outputs": [
    {
     "data": {
      "text/plain": [
       "(35787, 2)"
      ]
     },
     "execution_count": 7,
     "metadata": {},
     "output_type": "execute_result"
    }
   ],
   "source": [
    "# no.of rows, no.of columns  of the dataframe\n",
    "df.shape"
   ]
  },
  {
   "cell_type": "code",
   "execution_count": 8,
   "id": "68cfe1cd",
   "metadata": {},
   "outputs": [
    {
     "data": {
      "text/plain": [
       "full_text    0\n",
       "label        0\n",
       "dtype: int64"
      ]
     },
     "execution_count": 8,
     "metadata": {},
     "output_type": "execute_result"
    }
   ],
   "source": [
    "# Checking of null values\n",
    "df.isnull().sum()"
   ]
  },
  {
   "cell_type": "code",
   "execution_count": 9,
   "id": "d2d91ba4",
   "metadata": {},
   "outputs": [
    {
     "data": {
      "text/html": [
       "<div>\n",
       "<style scoped>\n",
       "    .dataframe tbody tr th:only-of-type {\n",
       "        vertical-align: middle;\n",
       "    }\n",
       "\n",
       "    .dataframe tbody tr th {\n",
       "        vertical-align: top;\n",
       "    }\n",
       "\n",
       "    .dataframe thead th {\n",
       "        text-align: right;\n",
       "    }\n",
       "</style>\n",
       "<table border=\"1\" class=\"dataframe\">\n",
       "  <thead>\n",
       "    <tr style=\"text-align: right;\">\n",
       "      <th></th>\n",
       "      <th>label</th>\n",
       "    </tr>\n",
       "  </thead>\n",
       "  <tbody>\n",
       "    <tr>\n",
       "      <th>count</th>\n",
       "      <td>35787.000000</td>\n",
       "    </tr>\n",
       "    <tr>\n",
       "      <th>mean</th>\n",
       "      <td>0.657529</td>\n",
       "    </tr>\n",
       "    <tr>\n",
       "      <th>std</th>\n",
       "      <td>0.474543</td>\n",
       "    </tr>\n",
       "    <tr>\n",
       "      <th>min</th>\n",
       "      <td>0.000000</td>\n",
       "    </tr>\n",
       "    <tr>\n",
       "      <th>25%</th>\n",
       "      <td>0.000000</td>\n",
       "    </tr>\n",
       "    <tr>\n",
       "      <th>50%</th>\n",
       "      <td>1.000000</td>\n",
       "    </tr>\n",
       "    <tr>\n",
       "      <th>75%</th>\n",
       "      <td>1.000000</td>\n",
       "    </tr>\n",
       "    <tr>\n",
       "      <th>max</th>\n",
       "      <td>1.000000</td>\n",
       "    </tr>\n",
       "  </tbody>\n",
       "</table>\n",
       "</div>"
      ],
      "text/plain": [
       "              label\n",
       "count  35787.000000\n",
       "mean       0.657529\n",
       "std        0.474543\n",
       "min        0.000000\n",
       "25%        0.000000\n",
       "50%        1.000000\n",
       "75%        1.000000\n",
       "max        1.000000"
      ]
     },
     "execution_count": 9,
     "metadata": {},
     "output_type": "execute_result"
    }
   ],
   "source": [
    "# Description about the dataframe df\n",
    "df.describe()"
   ]
  },
  {
   "cell_type": "code",
   "execution_count": 10,
   "id": "3693a265",
   "metadata": {},
   "outputs": [
    {
     "data": {
      "text/html": [
       "<div>\n",
       "<style scoped>\n",
       "    .dataframe tbody tr th:only-of-type {\n",
       "        vertical-align: middle;\n",
       "    }\n",
       "\n",
       "    .dataframe tbody tr th {\n",
       "        vertical-align: top;\n",
       "    }\n",
       "\n",
       "    .dataframe thead th {\n",
       "        text-align: right;\n",
       "    }\n",
       "</style>\n",
       "<table border=\"1\" class=\"dataframe\">\n",
       "  <thead>\n",
       "    <tr style=\"text-align: right;\">\n",
       "      <th></th>\n",
       "      <th>full_text</th>\n",
       "      <th>label</th>\n",
       "    </tr>\n",
       "  </thead>\n",
       "  <tbody>\n",
       "    <tr>\n",
       "      <th>0</th>\n",
       "      <td>So Drasko just said he was impressed the girls...</td>\n",
       "      <td>1</td>\n",
       "    </tr>\n",
       "    <tr>\n",
       "      <th>1</th>\n",
       "      <td>Drasko they didn't cook half a bird you idiot ...</td>\n",
       "      <td>1</td>\n",
       "    </tr>\n",
       "    <tr>\n",
       "      <th>2</th>\n",
       "      <td>Hopefully someone cooks Drasko in the next ep ...</td>\n",
       "      <td>1</td>\n",
       "    </tr>\n",
       "    <tr>\n",
       "      <th>3</th>\n",
       "      <td>of course you were born in serbia...you're as ...</td>\n",
       "      <td>1</td>\n",
       "    </tr>\n",
       "    <tr>\n",
       "      <th>4</th>\n",
       "      <td>These girls are the equivalent of the irritati...</td>\n",
       "      <td>1</td>\n",
       "    </tr>\n",
       "  </tbody>\n",
       "</table>\n",
       "</div>"
      ],
      "text/plain": [
       "                                           full_text  label\n",
       "0  So Drasko just said he was impressed the girls...      1\n",
       "1  Drasko they didn't cook half a bird you idiot ...      1\n",
       "2  Hopefully someone cooks Drasko in the next ep ...      1\n",
       "3  of course you were born in serbia...you're as ...      1\n",
       "4  These girls are the equivalent of the irritati...      1"
      ]
     },
     "execution_count": 10,
     "metadata": {},
     "output_type": "execute_result"
    }
   ],
   "source": [
    "df.head()"
   ]
  },
  {
   "cell_type": "code",
   "execution_count": 11,
   "id": "96981cb2",
   "metadata": {},
   "outputs": [
    {
     "data": {
      "text/html": [
       "<div>\n",
       "<style scoped>\n",
       "    .dataframe tbody tr th:only-of-type {\n",
       "        vertical-align: middle;\n",
       "    }\n",
       "\n",
       "    .dataframe tbody tr th {\n",
       "        vertical-align: top;\n",
       "    }\n",
       "\n",
       "    .dataframe thead th {\n",
       "        text-align: right;\n",
       "    }\n",
       "</style>\n",
       "<table border=\"1\" class=\"dataframe\">\n",
       "  <thead>\n",
       "    <tr style=\"text-align: right;\">\n",
       "      <th></th>\n",
       "      <th>full_text</th>\n",
       "      <th>label</th>\n",
       "      <th>classification</th>\n",
       "    </tr>\n",
       "  </thead>\n",
       "  <tbody>\n",
       "    <tr>\n",
       "      <th>0</th>\n",
       "      <td>So Drasko just said he was impressed the girls...</td>\n",
       "      <td>1</td>\n",
       "      <td>Bullying</td>\n",
       "    </tr>\n",
       "    <tr>\n",
       "      <th>1</th>\n",
       "      <td>Drasko they didn't cook half a bird you idiot ...</td>\n",
       "      <td>1</td>\n",
       "      <td>Bullying</td>\n",
       "    </tr>\n",
       "    <tr>\n",
       "      <th>2</th>\n",
       "      <td>Hopefully someone cooks Drasko in the next ep ...</td>\n",
       "      <td>1</td>\n",
       "      <td>Bullying</td>\n",
       "    </tr>\n",
       "    <tr>\n",
       "      <th>3</th>\n",
       "      <td>of course you were born in serbia...you're as ...</td>\n",
       "      <td>1</td>\n",
       "      <td>Bullying</td>\n",
       "    </tr>\n",
       "    <tr>\n",
       "      <th>4</th>\n",
       "      <td>These girls are the equivalent of the irritati...</td>\n",
       "      <td>1</td>\n",
       "      <td>Bullying</td>\n",
       "    </tr>\n",
       "    <tr>\n",
       "      <th>...</th>\n",
       "      <td>...</td>\n",
       "      <td>...</td>\n",
       "      <td>...</td>\n",
       "    </tr>\n",
       "    <tr>\n",
       "      <th>35782</th>\n",
       "      <td>you's a muthaf***in lie &amp;#8220;@LifeAsKing: @2...</td>\n",
       "      <td>1</td>\n",
       "      <td>Bullying</td>\n",
       "    </tr>\n",
       "    <tr>\n",
       "      <th>35783</th>\n",
       "      <td>you've gone and broke the wrong heart baby, an...</td>\n",
       "      <td>0</td>\n",
       "      <td>Non-Bullying</td>\n",
       "    </tr>\n",
       "    <tr>\n",
       "      <th>35784</th>\n",
       "      <td>young buck wanna eat!!.. dat nigguh like I ain...</td>\n",
       "      <td>1</td>\n",
       "      <td>Bullying</td>\n",
       "    </tr>\n",
       "    <tr>\n",
       "      <th>35785</th>\n",
       "      <td>youu got wild bitches tellin you lies</td>\n",
       "      <td>1</td>\n",
       "      <td>Bullying</td>\n",
       "    </tr>\n",
       "    <tr>\n",
       "      <th>35786</th>\n",
       "      <td>~~Ruffled | Ntac Eileen Dahlia - Beautiful col...</td>\n",
       "      <td>0</td>\n",
       "      <td>Non-Bullying</td>\n",
       "    </tr>\n",
       "  </tbody>\n",
       "</table>\n",
       "<p>35787 rows × 3 columns</p>\n",
       "</div>"
      ],
      "text/plain": [
       "                                               full_text  label classification\n",
       "0      So Drasko just said he was impressed the girls...      1       Bullying\n",
       "1      Drasko they didn't cook half a bird you idiot ...      1       Bullying\n",
       "2      Hopefully someone cooks Drasko in the next ep ...      1       Bullying\n",
       "3      of course you were born in serbia...you're as ...      1       Bullying\n",
       "4      These girls are the equivalent of the irritati...      1       Bullying\n",
       "...                                                  ...    ...            ...\n",
       "35782  you's a muthaf***in lie &#8220;@LifeAsKing: @2...      1       Bullying\n",
       "35783  you've gone and broke the wrong heart baby, an...      0   Non-Bullying\n",
       "35784  young buck wanna eat!!.. dat nigguh like I ain...      1       Bullying\n",
       "35785              youu got wild bitches tellin you lies      1       Bullying\n",
       "35786  ~~Ruffled | Ntac Eileen Dahlia - Beautiful col...      0   Non-Bullying\n",
       "\n",
       "[35787 rows x 3 columns]"
      ]
     },
     "execution_count": 11,
     "metadata": {},
     "output_type": "execute_result"
    }
   ],
   "source": [
    "df['classification']=df['label'].replace(1,'Bullying')\n",
    "df['classification']=df['classification'].replace(0,'Non-Bullying')\n",
    "df"
   ]
  },
  {
   "cell_type": "code",
   "execution_count": 12,
   "id": "0760f419",
   "metadata": {},
   "outputs": [
    {
     "data": {
      "text/html": [
       "<div>\n",
       "<style scoped>\n",
       "    .dataframe tbody tr th:only-of-type {\n",
       "        vertical-align: middle;\n",
       "    }\n",
       "\n",
       "    .dataframe tbody tr th {\n",
       "        vertical-align: top;\n",
       "    }\n",
       "\n",
       "    .dataframe thead th {\n",
       "        text-align: right;\n",
       "    }\n",
       "</style>\n",
       "<table border=\"1\" class=\"dataframe\">\n",
       "  <thead>\n",
       "    <tr style=\"text-align: right;\">\n",
       "      <th></th>\n",
       "      <th>full_text</th>\n",
       "      <th>label</th>\n",
       "      <th>classification</th>\n",
       "    </tr>\n",
       "  </thead>\n",
       "  <tbody>\n",
       "    <tr>\n",
       "      <th>0</th>\n",
       "      <td>So Drasko just said he was impressed the girls...</td>\n",
       "      <td>1</td>\n",
       "      <td>Bullying</td>\n",
       "    </tr>\n",
       "    <tr>\n",
       "      <th>1</th>\n",
       "      <td>Drasko they didn't cook half a bird you idiot ...</td>\n",
       "      <td>1</td>\n",
       "      <td>Bullying</td>\n",
       "    </tr>\n",
       "    <tr>\n",
       "      <th>2</th>\n",
       "      <td>Hopefully someone cooks Drasko in the next ep ...</td>\n",
       "      <td>1</td>\n",
       "      <td>Bullying</td>\n",
       "    </tr>\n",
       "    <tr>\n",
       "      <th>3</th>\n",
       "      <td>of course you were born in serbia...you're as ...</td>\n",
       "      <td>1</td>\n",
       "      <td>Bullying</td>\n",
       "    </tr>\n",
       "    <tr>\n",
       "      <th>4</th>\n",
       "      <td>These girls are the equivalent of the irritati...</td>\n",
       "      <td>1</td>\n",
       "      <td>Bullying</td>\n",
       "    </tr>\n",
       "  </tbody>\n",
       "</table>\n",
       "</div>"
      ],
      "text/plain": [
       "                                           full_text  label classification\n",
       "0  So Drasko just said he was impressed the girls...      1       Bullying\n",
       "1  Drasko they didn't cook half a bird you idiot ...      1       Bullying\n",
       "2  Hopefully someone cooks Drasko in the next ep ...      1       Bullying\n",
       "3  of course you were born in serbia...you're as ...      1       Bullying\n",
       "4  These girls are the equivalent of the irritati...      1       Bullying"
      ]
     },
     "execution_count": 12,
     "metadata": {},
     "output_type": "execute_result"
    }
   ],
   "source": [
    "df.head()"
   ]
  },
  {
   "cell_type": "code",
   "execution_count": 13,
   "id": "70e3ad83",
   "metadata": {},
   "outputs": [
    {
     "data": {
      "text/html": [
       "<div>\n",
       "<style scoped>\n",
       "    .dataframe tbody tr th:only-of-type {\n",
       "        vertical-align: middle;\n",
       "    }\n",
       "\n",
       "    .dataframe tbody tr th {\n",
       "        vertical-align: top;\n",
       "    }\n",
       "\n",
       "    .dataframe thead th {\n",
       "        text-align: right;\n",
       "    }\n",
       "</style>\n",
       "<table border=\"1\" class=\"dataframe\">\n",
       "  <thead>\n",
       "    <tr style=\"text-align: right;\">\n",
       "      <th></th>\n",
       "      <th>full_text</th>\n",
       "      <th>label</th>\n",
       "      <th>classification</th>\n",
       "    </tr>\n",
       "  </thead>\n",
       "  <tbody>\n",
       "    <tr>\n",
       "      <th>35782</th>\n",
       "      <td>you's a muthaf***in lie &amp;#8220;@LifeAsKing: @2...</td>\n",
       "      <td>1</td>\n",
       "      <td>Bullying</td>\n",
       "    </tr>\n",
       "    <tr>\n",
       "      <th>35783</th>\n",
       "      <td>you've gone and broke the wrong heart baby, an...</td>\n",
       "      <td>0</td>\n",
       "      <td>Non-Bullying</td>\n",
       "    </tr>\n",
       "    <tr>\n",
       "      <th>35784</th>\n",
       "      <td>young buck wanna eat!!.. dat nigguh like I ain...</td>\n",
       "      <td>1</td>\n",
       "      <td>Bullying</td>\n",
       "    </tr>\n",
       "    <tr>\n",
       "      <th>35785</th>\n",
       "      <td>youu got wild bitches tellin you lies</td>\n",
       "      <td>1</td>\n",
       "      <td>Bullying</td>\n",
       "    </tr>\n",
       "    <tr>\n",
       "      <th>35786</th>\n",
       "      <td>~~Ruffled | Ntac Eileen Dahlia - Beautiful col...</td>\n",
       "      <td>0</td>\n",
       "      <td>Non-Bullying</td>\n",
       "    </tr>\n",
       "  </tbody>\n",
       "</table>\n",
       "</div>"
      ],
      "text/plain": [
       "                                               full_text  label classification\n",
       "35782  you's a muthaf***in lie &#8220;@LifeAsKing: @2...      1       Bullying\n",
       "35783  you've gone and broke the wrong heart baby, an...      0   Non-Bullying\n",
       "35784  young buck wanna eat!!.. dat nigguh like I ain...      1       Bullying\n",
       "35785              youu got wild bitches tellin you lies      1       Bullying\n",
       "35786  ~~Ruffled | Ntac Eileen Dahlia - Beautiful col...      0   Non-Bullying"
      ]
     },
     "execution_count": 13,
     "metadata": {},
     "output_type": "execute_result"
    }
   ],
   "source": [
    "df.tail()"
   ]
  },
  {
   "cell_type": "code",
   "execution_count": 14,
   "id": "bdcc38d2",
   "metadata": {},
   "outputs": [
    {
     "data": {
      "text/html": [
       "<div>\n",
       "<style scoped>\n",
       "    .dataframe tbody tr th:only-of-type {\n",
       "        vertical-align: middle;\n",
       "    }\n",
       "\n",
       "    .dataframe tbody tr th {\n",
       "        vertical-align: top;\n",
       "    }\n",
       "\n",
       "    .dataframe thead th {\n",
       "        text-align: right;\n",
       "    }\n",
       "</style>\n",
       "<table border=\"1\" class=\"dataframe\">\n",
       "  <thead>\n",
       "    <tr style=\"text-align: right;\">\n",
       "      <th></th>\n",
       "      <th>full_text</th>\n",
       "      <th>label</th>\n",
       "      <th>classification</th>\n",
       "    </tr>\n",
       "  </thead>\n",
       "  <tbody>\n",
       "    <tr>\n",
       "      <th>15172</th>\n",
       "      <td>@Morning_Joe You bitch and complain about how ...</td>\n",
       "      <td>1</td>\n",
       "      <td>Bullying</td>\n",
       "    </tr>\n",
       "  </tbody>\n",
       "</table>\n",
       "</div>"
      ],
      "text/plain": [
       "                                               full_text  label classification\n",
       "15172  @Morning_Joe You bitch and complain about how ...      1       Bullying"
      ]
     },
     "execution_count": 14,
     "metadata": {},
     "output_type": "execute_result"
    }
   ],
   "source": [
    "df.sample()"
   ]
  },
  {
   "cell_type": "code",
   "execution_count": 15,
   "id": "93c3d1c9",
   "metadata": {},
   "outputs": [
    {
     "data": {
      "text/plain": [
       "Bullying        23531\n",
       "Non-Bullying    12256\n",
       "Name: classification, dtype: int64"
      ]
     },
     "execution_count": 15,
     "metadata": {},
     "output_type": "execute_result"
    }
   ],
   "source": [
    "# checking for im-balance\n",
    "df['classification'].value_counts()"
   ]
  },
  {
   "cell_type": "code",
   "execution_count": 16,
   "id": "6d7dfdb4",
   "metadata": {},
   "outputs": [
    {
     "data": {
      "image/png": "[encoded data removed]",
      "text/plain": [
       "<Figure size 700x700 with 1 Axes>"
      ]
     },
     "metadata": {},
     "output_type": "display_data"
    }
   ],
   "source": [
    "plt.figure(figsize = (7,7))\n",
    "sorted_counts = df['classification'].value_counts()\n",
    "plt.pie(sorted_counts, labels = sorted_counts.index, startangle = 90, counterclock = False, wedgeprops = {'width' : 0.6},\n",
    "       autopct='%1.1f%%', pctdistance = 0.7, textprops = {'color': 'black', 'fontsize' : 15}, shadow = True,\n",
    "        colors = sns.color_palette(\"Paired\")[7:])\n",
    "plt.text(x = -0.35, y = 0, s = 'Total Tweets: {}'.format(df.shape[0]))\n",
    "plt.title('Distribution of Tweets in the Dataset', fontweight= 'bold', fontsize = 25);"
   ]
  },
  {
   "cell_type": "code",
   "execution_count": 17,
   "id": "954c9765",
   "metadata": {},
   "outputs": [
    {
     "name": "stderr",
     "output_type": "stream",
     "text": [
      "[nltk_data] Error loading stopwords: <urlopen error [Errno 11001]\n",
      "[nltk_data]     getaddrinfo failed>\n",
      "[nltk_data] Error loading omw-1.4: <urlopen error [Errno 11001]\n",
      "[nltk_data]     getaddrinfo failed>\n",
      "[nltk_data] Error loading wordnet: <urlopen error [Errno 11001]\n",
      "[nltk_data]     getaddrinfo failed>\n"
     ]
    }
   ],
   "source": [
    "# !pip install nltk\n",
    "import nltk\n",
    "import re\n",
    "from nltk.corpus import stopwords\n",
    "nltk.download('stopwords') # it is one of the preprocessing step\n",
    "stopwords = stopwords.words('english')\n",
    "nltk.download('omw-1.4')\n",
    "from nltk import word_tokenize, sent_tokenize\n",
    "nltk.download('wordnet')\n",
    "from nltk.stem import WordNetLemmatizer\n",
    "lm = WordNetLemmatizer()\n",
    "# https://www.nltk.org/data.html\n",
    "# https://www.nltk.org/nltk_data/"
   ]
  },
  {
   "cell_type": "code",
   "execution_count": 20,
   "id": "9b16bec8",
   "metadata": {},
   "outputs": [
    {
     "name": "stdout",
     "output_type": "stream",
     "text": [
      "                                               full_text  label classification\n",
      "21847      ['really', 'want', 'girl', 'make', 'brownie']      0   Non-Bullying\n",
      "21230                          ['dont', 'like', 'bitch']      1       Bullying\n",
      "1030   ['boxedariel', 'none', 'thing', 'true', 'retur...      1       Bullying\n",
      "14378  ['highofftatianna', 'lol', 'fuck', 'lil', 'bit...      1       Bullying\n",
      "24825  ['photo', 'bad', 'bitch', 'ladykimora', 'favor...      1       Bullying\n",
      "28648  ['rt', 'thecockiestman', 'shes', 'really', 'ni...      1       Bullying\n",
      "24639  ['one', 'man', 'trash', 'anothers', 'transform...      0   Non-Bullying\n",
      "3517   ['holy', 'crap', 'wasted', 'min', 'prep', 'tim...      0   Non-Bullying\n",
      "19369  ['cant', 'trust', 'every', 'face', 'bitch', 'g...      1       Bullying\n",
      "812    ['dreysander', 'dunno', 'knowing', 'know', 'to...      1       Bullying\n",
      "3307     rt thefixninemsn saved tail spatchcock mkr pro...\n",
      "3343     forgot annoying annie happens series go ten ye...\n",
      "22485    idont want bestfriend boyfriend homeboy homegi...\n",
      "25932    rt danielgennaoui bird court female building b...\n",
      "16902      eanahs girl wanting shit growing hoe bout month\n",
      "Name: full_text, dtype: object\n",
      "11088    [blacknerdjade, ok, si, shed, rather, broke, b...\n",
      "8148                                   [httptcoltoxypkwww]\n",
      "9451     [xjared, zython, mmmyers, chriswarcraft, futhe...\n",
      "6590          [devopsing, hard, right, httptcosqz, otvsdc]\n",
      "25841    [rt, cuteoverloads, baby, monkey, snow, im, cr...\n",
      "Name: full_text, dtype: object\n",
      "22425    [im, nice, people, finally, decide, say, somet...\n",
      "2229     [rt, joshpowers, look, im, sexist, tell, dont,...\n",
      "35300            [business, submitting, bitch, bruh, bruh]\n",
      "4519                                       [kat, rat, mkr]\n",
      "549      [never, mind, nail, chalk, board, need, annies...\n",
      "Name: full_text, dtype: object\n",
      "21655                               [let, hoe, make, much]\n",
      "26257    [rt, friendlyassh, le, today, horoscope, youre...\n",
      "18301    [wodaeeex, aaliyahhlovee, yu, betta, watch, ch...\n",
      "29948    [rt, eanahs, done, everything, hoe, ever, want...\n",
      "21634    [know, right, get, one, guy, man, pjmclaugh, o...\n",
      "Name: full_text, dtype: object\n",
      "18587    ['da', 'lil', 'bald', 'headed', 'bitch', 'stan...\n",
      "1551                     ['asredasmyhair', 'isnt', 'goal']\n",
      "13128    ['tall', 'tree', 'female', 'talkin', 'bout', '...\n",
      "33694    ['bitch', 'say', 'want', 'cuddle', 'real', 'sp...\n",
      "27444    ['rt', 'michaeljdelaney', 'beyyourmaster', 're...\n",
      "Name: full_text, dtype: object\n"
     ]
    },
    {
     "data": {
      "text/html": [
       "<div>\n",
       "<style scoped>\n",
       "    .dataframe tbody tr th:only-of-type {\n",
       "        vertical-align: middle;\n",
       "    }\n",
       "\n",
       "    .dataframe tbody tr th {\n",
       "        vertical-align: top;\n",
       "    }\n",
       "\n",
       "    .dataframe thead th {\n",
       "        text-align: right;\n",
       "    }\n",
       "</style>\n",
       "<table border=\"1\" class=\"dataframe\">\n",
       "  <thead>\n",
       "    <tr style=\"text-align: right;\">\n",
       "      <th></th>\n",
       "      <th>full_text</th>\n",
       "      <th>label</th>\n",
       "      <th>classification</th>\n",
       "    </tr>\n",
       "  </thead>\n",
       "  <tbody>\n",
       "    <tr>\n",
       "      <th>0</th>\n",
       "      <td>['drasko', 'said', 'impressed', 'girl', 'cooke...</td>\n",
       "      <td>1</td>\n",
       "      <td>Bullying</td>\n",
       "    </tr>\n",
       "    <tr>\n",
       "      <th>1</th>\n",
       "      <td>['drasko', 'didnt', 'cook', 'half', 'bird', 'i...</td>\n",
       "      <td>1</td>\n",
       "      <td>Bullying</td>\n",
       "    </tr>\n",
       "    <tr>\n",
       "      <th>2</th>\n",
       "      <td>['hopefully', 'someone', 'cook', 'drasko', 'ne...</td>\n",
       "      <td>1</td>\n",
       "      <td>Bullying</td>\n",
       "    </tr>\n",
       "    <tr>\n",
       "      <th>3</th>\n",
       "      <td>['course', 'born', 'serbiayoure', 'fucked', 's...</td>\n",
       "      <td>1</td>\n",
       "      <td>Bullying</td>\n",
       "    </tr>\n",
       "    <tr>\n",
       "      <th>4</th>\n",
       "      <td>['girl', 'equivalent', 'irritating', 'asian', ...</td>\n",
       "      <td>1</td>\n",
       "      <td>Bullying</td>\n",
       "    </tr>\n",
       "    <tr>\n",
       "      <th>5</th>\n",
       "      <td>['mkr', 'lost', 'plot', 'wheres', 'big', 'texa...</td>\n",
       "      <td>1</td>\n",
       "      <td>Bullying</td>\n",
       "    </tr>\n",
       "    <tr>\n",
       "      <th>6</th>\n",
       "      <td>['rt', 'phxken', 'sir', 'winston', 'churchhill...</td>\n",
       "      <td>1</td>\n",
       "      <td>Bullying</td>\n",
       "    </tr>\n",
       "    <tr>\n",
       "      <th>7</th>\n",
       "      <td>['rt', 'therightwingm', 'giuliani', 'watched',...</td>\n",
       "      <td>1</td>\n",
       "      <td>Bullying</td>\n",
       "    </tr>\n",
       "    <tr>\n",
       "      <th>8</th>\n",
       "      <td>['rt', 'yesyoureracist', 'least', 'youre', 'ti...</td>\n",
       "      <td>1</td>\n",
       "      <td>Bullying</td>\n",
       "    </tr>\n",
       "    <tr>\n",
       "      <th>9</th>\n",
       "      <td>['misfitinchains', 'oldgfatherclock', 'venerev...</td>\n",
       "      <td>1</td>\n",
       "      <td>Bullying</td>\n",
       "    </tr>\n",
       "  </tbody>\n",
       "</table>\n",
       "</div>"
      ],
      "text/plain": [
       "                                           full_text  label classification\n",
       "0  ['drasko', 'said', 'impressed', 'girl', 'cooke...      1       Bullying\n",
       "1  ['drasko', 'didnt', 'cook', 'half', 'bird', 'i...      1       Bullying\n",
       "2  ['hopefully', 'someone', 'cook', 'drasko', 'ne...      1       Bullying\n",
       "3  ['course', 'born', 'serbiayoure', 'fucked', 's...      1       Bullying\n",
       "4  ['girl', 'equivalent', 'irritating', 'asian', ...      1       Bullying\n",
       "5  ['mkr', 'lost', 'plot', 'wheres', 'big', 'texa...      1       Bullying\n",
       "6  ['rt', 'phxken', 'sir', 'winston', 'churchhill...      1       Bullying\n",
       "7  ['rt', 'therightwingm', 'giuliani', 'watched',...      1       Bullying\n",
       "8  ['rt', 'yesyoureracist', 'least', 'youre', 'ti...      1       Bullying\n",
       "9  ['misfitinchains', 'oldgfatherclock', 'venerev...      1       Bullying"
      ]
     },
     "execution_count": 20,
     "metadata": {},
     "output_type": "execute_result"
    }
   ],
   "source": [
    "print(df.sample(10))\n",
    "def remove_punctuation(text):\n",
    "#     filtered_text = \"\".join(re.sub('[^a-zA-Z]', ' ', text))\n",
    "    filtered_text=\"\".join([char for char in text if char not in string.punctuation])\n",
    "    filtered_text=re.sub('[0-9]+',' ',filtered_text)\n",
    "    return filtered_text\n",
    "#     text = re.sub('[0-9]+', ' ', text)\n",
    "#     return filtered_text\n",
    "df['full_text'] = df['full_text'].apply(lambda x : remove_punctuation(x))\n",
    "print(df['full_text'].sample(5))\n",
    "\n",
    "def word_tokenization(text):\n",
    "    filtered_text = word_tokenize(text, preserve_line=True)\n",
    "    return filtered_text\n",
    "df['full_text'] = df['full_text'].apply(lambda text : word_tokenization(text.lower()))\n",
    "print(df['full_text'].sample(5))\n",
    "\n",
    "def stopwords_removal(text):\n",
    "    filtered_text = [word for word in text if word not in stopwords]\n",
    "    return filtered_text\n",
    "df['full_text'] = df['full_text'].apply(lambda text : stopwords_removal(text))\n",
    "print(df['full_text'].sample(5))\n",
    "\n",
    "def lemmatization(text):\n",
    "    filtered_text = [lm.lemmatize(word) for word in text]\n",
    "    return filtered_text\n",
    "df['full_text'] = df['full_text'].apply(lambda text : lemmatization(text))\n",
    "print(df['full_text'].sample(5))\n",
    "\n",
    "def convert_lower(text):\n",
    "    filtered_text = str(text).lower()\n",
    "    return filtered_text\n",
    "df['full_text'] = df['full_text'].apply(lambda text : convert_lower(text))\n",
    "print(df['full_text'].sample(5))\n",
    "\n",
    "df.head(10)"
   ]
  },
  {
   "cell_type": "code",
   "execution_count": null,
   "id": "5404e89d",
   "metadata": {},
   "outputs": [],
   "source": [
    "x = df['full_text']\n",
    "y = df['label']\n",
    "x_train, x_test, y_train, y_test = train_test_split(x, y, random_state=42)"
   ]
  },
  {
   "cell_type": "code",
   "execution_count": null,
   "id": "4f40b3e4",
   "metadata": {},
   "outputs": [],
   "source": [
    "count_vector = CountVectorizer(stop_words = 'english', lowercase = True)\n",
    "x_train = count_vector.fit_transform(x_train)\n",
    "x_test = count_vector.transform(x_test)\n",
    "\n",
    "# training_data = count_vector.fit_transform(X_train)\n",
    "# testing_data = count_vector.transform(X_test)"
   ]
  },
  {
   "cell_type": "code",
   "execution_count": null,
   "id": "f593f126",
   "metadata": {},
   "outputs": [],
   "source": [
    "from sklearn.ensemble import RandomForestClassifier"
   ]
  },
  {
   "cell_type": "code",
   "execution_count": null,
   "id": "80ff4ed7",
   "metadata": {},
   "outputs": [],
   "source": []
  },
  {
   "cell_type": "code",
   "execution_count": null,
   "id": "7d0d5a63",
   "metadata": {},
   "outputs": [],
   "source": []
  },
  {
   "cell_type": "code",
   "execution_count": null,
   "id": "e3f2a119",
   "metadata": {},
   "outputs": [],
   "source": []
  },
  {
   "cell_type": "code",
   "execution_count": null,
   "id": "ff408df3",
   "metadata": {},
   "outputs": [],
   "source": []
  },
  {
   "cell_type": "code",
   "execution_count": null,
   "id": "4813c039",
   "metadata": {},
   "outputs": [],
   "source": []
  },
  {
   "cell_type": "code",
   "execution_count": null,
   "id": "cb0a47ed",
   "metadata": {},
   "outputs": [],
   "source": []
  },
  {
   "cell_type": "code",
   "execution_count": null,
   "id": "a762e5ba",
   "metadata": {},
   "outputs": [],
   "source": []
  },
  {
   "cell_type": "code",
   "execution_count": null,
   "id": "7f88b3f2",
   "metadata": {},
   "outputs": [],
   "source": []
  },
  {
   "cell_type": "code",
   "execution_count": null,
   "id": "18aa3d07",
   "metadata": {},
   "outputs": [],
   "source": []
  },
  {
   "cell_type": "code",
   "execution_count": null,
   "id": "c55ab6b9",
   "metadata": {},
   "outputs": [],
   "source": []
  },
  {
   "cell_type": "code",
   "execution_count": null,
   "id": "f88d5598",
   "metadata": {},
   "outputs": [],
   "source": []
  },
  {
   "cell_type": "code",
   "execution_count": null,
   "id": "885cc725",
   "metadata": {},
   "outputs": [],
   "source": []
  },
  {
   "cell_type": "code",
   "execution_count": null,
   "id": "9d62a223",
   "metadata": {},
   "outputs": [],
   "source": []
  },
  {
   "cell_type": "code",
   "execution_count": null,
   "id": "77b477d6",
   "metadata": {},
   "outputs": [],
   "source": []
  },
  {
   "cell_type": "code",
   "execution_count": null,
   "id": "95e912d1",
   "metadata": {},
   "outputs": [],
   "source": []
  },
  {
   "cell_type": "code",
   "execution_count": null,
   "id": "f62c6d30",
   "metadata": {},
   "outputs": [],
   "source": []
  },
  {
   "cell_type": "code",
   "execution_count": null,
   "id": "826bb59c",
   "metadata": {},
   "outputs": [],
   "source": []
  },
  {
   "cell_type": "code",
   "execution_count": null,
   "id": "cddaaebc",
   "metadata": {},
   "outputs": [],
   "source": []
  }
 ],
 "metadata": {
  "kernelspec": {
   "display_name": "Python 3 (ipykernel)",
   "language": "python",
   "name": "python3"
  },
  "language_info": {
   "codemirror_mode": {
    "name": "ipython",
    "version": 3
   },
   "file_extension": ".py",
   "mimetype": "text/x-python",
   "name": "python",
   "nbconvert_exporter": "python",
   "pygments_lexer": "ipython3",
   "version": "3.10.9"
  }
 },
 "nbformat": 4,
 "nbformat_minor": 5
}
